{
  "nbformat": 4,
  "nbformat_minor": 0,
  "metadata": {
    "colab": {
      "provenance": []
    },
    "kernelspec": {
      "name": "python3",
      "display_name": "Python 3"
    },
    "language_info": {
      "name": "python"
    }
  },
  "cells": [
    {
      "cell_type": "markdown",
      "source": [
        "Preguntas 1 y 2"
      ],
      "metadata": {
        "id": "0aAa3h89EG8O"
      }
    },
    {
      "cell_type": "code",
      "execution_count": null,
      "metadata": {
        "colab": {
          "base_uri": "https://localhost:8080/"
        },
        "id": "2g5-sSjHC6Ij",
        "outputId": "d03ae953-7db1-4a34-abc2-4296ae882bce"
      },
      "outputs": [
        {
          "output_type": "stream",
          "name": "stdout",
          "text": [
            "Error: División por cero\n"
          ]
        }
      ],
      "source": [
        "a = int(input(\"Ingresar valor a:\"))\n",
        "b = int(input(\"Ingresar valor ab:\"))\n",
        "\n",
        "try:\n",
        "    c = a / b\n",
        "    print(\"Resultado:\", c)\n",
        "except ZeroDivisionError:\n",
        "    print(\"Error: División por cero\")\n",
        "\n"
      ]
    },
    {
      "cell_type": "code",
      "source": [
        "def prestamo(monto, año, tasa):\n",
        "    cantidad_prestamo = (monto * año * tasa) / 100\n",
        "    return cantidad_prestamo\n",
        "\n",
        "while True:\n",
        "    try:\n",
        "        tasa_interes = float(input(\"Ingrese la tasa de interés (en porcentaje): \"))\n",
        "        if tasa_interes > 100:\n",
        "            raise ValueError(\"La tasa de interés no puede ser mayor que 100\")\n",
        "        break\n",
        "    except ValueError as e:\n",
        "        print(e)\n",
        "\n",
        "# Usar la función\n",
        "monto_prestamo = float(input(\"Ingrese el monto del préstamo: \"))\n",
        "años = int(input(\"Ingrese la cantidad de años del préstamo: \"))\n",
        "interes_total = prestamo(monto_prestamo, años, tasa_interes)\n",
        "print(\"El interés total del préstamo es:\", interes_total)\n"
      ],
      "metadata": {
        "colab": {
          "base_uri": "https://localhost:8080/"
        },
        "id": "3yR7fWAcEMRO",
        "outputId": "f351fad4-f9c7-48d0-9b05-d3d9307c1d5c"
      },
      "execution_count": null,
      "outputs": [
        {
          "output_type": "stream",
          "name": "stdout",
          "text": [
            "Ingrese la tasa de interés (en porcentaje): 0.1\n",
            "Ingrese el monto del préstamo: 100\n",
            "Ingrese la cantidad de años del préstamo: 5\n",
            "El interés total del préstamo es: 0.5\n"
          ]
        }
      ]
    }
  ]
}