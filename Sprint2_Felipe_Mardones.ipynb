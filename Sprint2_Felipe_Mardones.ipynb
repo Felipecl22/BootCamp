{
  "cells": [
    {
      "cell_type": "markdown",
      "metadata": {
        "id": "view-in-github",
        "colab_type": "text"
      },
      "source": [
        "<a href=\"https://colab.research.google.com/github/Felipecl22/BootCamp/blob/main/Sprint2_Felipe_Mardones.ipynb\" target=\"_parent\"><img src=\"https://colab.research.google.com/assets/colab-badge.svg\" alt=\"Open In Colab\"/></a>"
      ]
    },
    {
      "cell_type": "markdown",
      "source": [
        "Nombre Alumno: Felipe Enrique Mardones Guzmán.\n",
        "Sprint entrega: Módulo 2."
      ],
      "metadata": {
        "id": "XBj1-GjO40FP"
      }
    },
    {
      "cell_type": "code",
      "execution_count": null,
      "metadata": {
        "id": "sMfdD601uFz9"
      },
      "outputs": [],
      "source": [
        "# Código que importa librerías para poder utilizar sus métodos y funciones respectivamente.\n",
        "# Se utilza la instrucción import y as como alias.\n",
        "\n",
        "import pandas as pd\n",
        "from datetime import datetime"
      ]
    },
    {
      "cell_type": "code",
      "execution_count": null,
      "metadata": {
        "colab": {
          "base_uri": "https://localhost:8080/"
        },
        "id": "iwfPqqvXtesV",
        "outputId": "013c980b-4abb-40d3-f7d9-a14622c84024"
      },
      "outputs": [
        {
          "output_type": "stream",
          "name": "stdout",
          "text": [
            "Menú:\n",
            "Opción 1: Agregar Producto y Precio.\n",
            "Opción 2: Borrar Producto Ingresado\n",
            "Opción 3: Guardar Archivo en formato csv.\n",
            "Opción 4: Salir del programa\n",
            "Ingrese la opción deseada: 1\n",
            "Ingrese el nombre del producto: auto\n",
            "Ingrese el precio del producto: 1200\n",
            "Producto agregado exitosamente.\n",
            "Ingrese la opción deseada: 4\n",
            "Saliendo del programa.\n"
          ]
        }
      ],
      "source": [
        "# Creación de dataframe usando Pandas.\n",
        "# Considere crear los archivos no subirlos.\n",
        "# En el caso de que lo hubiese tenido para cargarlo se hace de esta forma: df_producto = pd.read_csv(\"producto.csv\")\n",
        "\n",
        "# DataFrame de productos, usando pd.Dataframe.\n",
        "df_producto = pd.DataFrame(columns=['Nombre', 'Precio'])\n",
        "\n",
        "# Función para ingresar productos:\n",
        "def ingresar_productos():\n",
        "    global df_producto  # Global indica que vamos a modificar la variable global df_producto dentro de esta función.\n",
        "\n",
        "    # Menú que imprime en la consola las opciones dadas al usuario, se espera que elija un número de opción.\n",
        "    print(\"Menú:\")\n",
        "    print(\"Opción 1: Agregar Producto y Precio.\")\n",
        "    print(\"Opción 2: Borrar Producto Ingresado\") # Agregue esta opción por que considere el hecho que alguien podría equivocarse en subir un producto, podría haber usado un actualizar pero mejor lo borro y listo.\n",
        "    print(\"Opción 3: Guardar Archivo en formato csv.\")\n",
        "    print(\"Opción 4: Salir del programa\")\n",
        "\n",
        "    # Creamos un bucle while infinito con True para dar condiciones a cada opción y sus funcionalidades, también se agrega previamente opción = input para que el usuario elija la opción deseada.\n",
        "    while True:\n",
        "      opcion = input(\"Ingrese la opción deseada: \")\n",
        "\n",
        "      # Primera opción que permite ingresar un producto y su precio, para el precio se el input se transforma en float no int por que el usuario podría poner un precio con decimales, luego usando pd.concat agregamos,\n",
        "      # los atributos a df_producto en forma de diccionario, también se usan expeciones dado que el usuario podría no ingresar un float sino otro tipo de dato y se crea un mensaje de error para evitar aquello.\n",
        "      # Para la primera opción se inicia con if, las siguientes elif y en caso de requerir un valor falso else, se usa break para cortar el bucle infinito.\n",
        "      if opcion == '1':\n",
        "          nombre = input(\"Ingrese el nombre del producto: \")\n",
        "          try:\n",
        "            precio = input(\"Ingrese el precio del producto: \")\n",
        "            precio = float(precio)\n",
        "            df_producto = pd.concat([df_producto, pd.DataFrame({'Nombre': [nombre], 'Precio': [precio]})], ignore_index=True)\n",
        "            print(\"Producto agregado exitosamente.\")\n",
        "          except ValueError:\n",
        "            print(\"El precio debe ser un número\")\n",
        "\n",
        "      # Permite borrar un producto agregado, se enlaza con Nombre. Se usa un operador != (no igual a) para borrar el producto ingresado.\n",
        "      elif opcion == '2':\n",
        "          print(\"Productos actuales:\")\n",
        "          print(df_producto)\n",
        "          borrar_producto = input(\"Ingrese el nombre del producto que desea borrar: \")\n",
        "          df_producto = df_producto[df_producto['Nombre'] != borrar_producto]\n",
        "          print(f\"Producto '{borrar_producto}' borrado exitosamente.\")\n",
        "\n",
        "      # Esta opción permite guardar el dataframe df_producto en formato csv.\n",
        "      elif opcion == '3':\n",
        "          # Guardar el DataFrame en un archivo CSV\n",
        "          nombre_archivo = input(\"Ingrese el nombre del archivo para guardar (sin extensión, ya que por defecto será csv): \")\n",
        "\n",
        "          try:\n",
        "            df_producto.to_csv(f\"{nombre_archivo}.csv\", index=False) # Uso index=False para que Pandas no agregue una columna con indices, sino sólo muestre la columna Nombre y Precio.\n",
        "            print(\"Archivo guardado exitosamente.\")\n",
        "          except:\n",
        "            print(\"Error al guardar la vista. Por favor, inténtelo de nuevo.\")\n",
        "\n",
        "      # Esta opción permite salir del programa.\n",
        "      elif opcion == '4':\n",
        "          print(\"Saliendo del programa.\")\n",
        "          break\n",
        "\n",
        "# Llamar a la función para iniciar el proceso.\n",
        "ingresar_productos()"
      ]
    },
    {
      "cell_type": "code",
      "execution_count": null,
      "metadata": {
        "colab": {
          "base_uri": "https://localhost:8080/"
        },
        "id": "1BUwM4VyDF0l",
        "outputId": "29643271-821b-4327-aeac-ca3dbdee33ca"
      },
      "outputs": [
        {
          "output_type": "stream",
          "name": "stdout",
          "text": [
            "Menú:\n",
            "Opción 1: Agregar Producto y Precio.\n",
            "Opción 2: Borrar Producto Ingresado\n",
            "Opción 3: Guardar Archivo en formato csv.\n",
            "Opción 4: Salir del programa\n",
            "Ingrese la opción deseada: 1\n",
            "Ingrese el nombre del producto: auto\n",
            "Ingrese el precio del producto: 1200\n",
            "Ingrese nombre cliente: Felipe\n",
            "Ingrese cantidad vendida: 3\n",
            "Producto agregado exitosamente.\n",
            "Ingrese la opción deseada: 4\n",
            "Saliendo del programa.\n"
          ]
        }
      ],
      "source": [
        "# Considere crear los archivos no subirlos.\n",
        "# En el caso de que lo hubiese tenido para cargarlo se hace de esta forma: df_facturas = pd.read_csv(\"facturas.csv\")\n",
        "\n",
        "# DataFrame de facturas, usando pd.Dataframe.\n",
        "df_facturas = pd.DataFrame(columns=['Cliente', 'Nombre', 'Precio', 'Cantidad vendida', 'Fecha de venta'])\n",
        "\n",
        "# Función para ingresar facturas:\n",
        "def ingresar_facturas():\n",
        "    global df_facturas  # Global indica que vamos a modificar la variable global df_facturas dentro de esta función.\n",
        "\n",
        "    # Menú que imprime en la consola las opciones dadas al usuario, se espera que elija un número de opción.\n",
        "    print(\"Menú:\")\n",
        "    print(\"Opción 1: Agregar Producto y Precio.\")\n",
        "    print(\"Opción 2: Borrar Producto Ingresado\")\n",
        "    print(\"Opción 3: Guardar Archivo en formato csv.\")\n",
        "    print(\"Opción 4: Salir del programa\")\n",
        "\n",
        "    # Creamos un bucle while infinito con True para dar condiciones a cada opción y sus funcionalidades, también se agrega previamente opción = input para que el usuario elija la opción deseada.\n",
        "    while True:\n",
        "        opcion = input(\"Ingrese la opción deseada: \")\n",
        "\n",
        "        # Esta opción permite al usuario ingresa atributos en df.facturas, usando el método input.\n",
        "        if opcion == '1':\n",
        "            nombre = input(\"Ingrese el nombre del producto: \")\n",
        "            precio = input(\"Ingrese el precio del producto: \")\n",
        "            nombre_cliente = input(\"Ingrese nombre cliente: \")\n",
        "            cantidad_vendida = input(\"Ingrese cantidad vendida: \")\n",
        "\n",
        "            try:\n",
        "              # Convertir precio y cantidad_vendida a float e int respectivamente, ya que el usuario podría poner cualquier valor y nosotros queremos que sean los correspondientes.\n",
        "              precio = float(precio)\n",
        "              cantidad_vendida = int(cantidad_vendida)\n",
        "\n",
        "              # Utilizamos datetime.now para obtener la fecha actual y le damos el formato deseado, luego agregados todos los atributos a df_facturas.\n",
        "              fecha_venta = datetime.now().strftime(\"%Y-%m-%d %H:%M:%S\")\n",
        "              df_facturas = pd.concat([df_facturas, pd.DataFrame({'Cliente': nombre_cliente, 'Nombre': [nombre], 'Precio': [precio], 'Cantidad vendida': [cantidad_vendida], 'Fecha de venta': [fecha_venta]})], ignore_index=True)\n",
        "              print(\"Producto agregado exitosamente.\")\n",
        "\n",
        "            except:\n",
        "              print(\"Por favor, asegúrese de ingresar un número válido para el precio y la cantidad vendida.\")\n",
        "\n",
        "        # Permite borrar un producto agregado, se enlaza con Nombre. Se usa un operador != (no igual a) para borrar el producto ingresado.\n",
        "        elif opcion == '2':\n",
        "            print(\"Productos actuales:\")\n",
        "            print(df_facturas)\n",
        "            borrar_producto = input(\"Ingrese el nombre del producto que desea borrar: \")\n",
        "            df_facturas = df_facturas[df_facturas['Nombre'] != borrar_producto]\n",
        "            print(f\"Producto '{borrar_producto}' borrado exitosamente.\")\n",
        "\n",
        "        elif opcion == '3':\n",
        "            # Guardar el DataFrame en un archivo CSV\n",
        "            nombre_archivo = input(\"Ingrese el nombre del archivo para guardar (sin extensión, ya que por defecto será csv): \")\n",
        "            df_facturas.to_csv(f\"{nombre_archivo}.csv\", index=False)\n",
        "            print(\"Archivo guardado exitosamente.\")\n",
        "\n",
        "        # Esta opción permite salir del programa.\n",
        "        elif opcion == '4':\n",
        "            print(\"Saliendo del programa.\")\n",
        "            break\n",
        "\n",
        "# Llamar a la función para iniciar el proceso\n",
        "ingresar_facturas()\n"
      ]
    },
    {
      "cell_type": "code",
      "source": [
        "def ver_resumen():\n",
        "  global df_facturas # Global indica que vamos a modificar la variable global df_facturas dentro de esta función.\n",
        "\n",
        "  # Menú que imprime en la consola las opciones dadas al usuario, se espera que elija un número de opción.\n",
        "  print(\"Menú:\")\n",
        "  print(\"Opción 1: Ver cantidad de ventas.\")\n",
        "  print(\"Opción 2: Total vendido\")\n",
        "  print(\"Opción 3: Guardar Resumen en formato csv.\")\n",
        "  print(\"Opción 4: Salir del programa\")\n",
        "\n",
        "  # Creamos un bucle while infinito con True para dar condiciones a cada opción y sus funcionalidades, también se agrega previamente opción = input para que el usuario elija la opción deseada.\n",
        "  while True:\n",
        "    opcion = input(\"Ingrese la opción deseada: \")\n",
        "\n",
        "    # Usamos la función sum() para calcular la cantidad vendida y no len() por que nos interesa el total de cantidades vendidas y no cuantas entradas existen en la columna Cantidad vendida.\n",
        "    if opcion == '1':\n",
        "        try:\n",
        "          cantidad_vendida = sum(df_facturas['Cantidad vendida'])\n",
        "          print(f\"Cantidad de ventas: {cantidad_vendida}\")\n",
        "        except KeyError:\n",
        "          print(\"No hay datos de ventas disponibles actualmente, favor ingresar para generar reporte.\")\n",
        "\n",
        "    # Calculamos el total_vendido con sum() pero primero multiplicamos precio * cantidad de cada fila para luego sumarlos.\n",
        "    elif opcion == '2':\n",
        "        total_vendido = sum(df_facturas['Cantidad vendida'] * df_facturas['Precio']) # Aquí lo primero es tomar cada cantidad vendida y multiplicarla por su precio y luego sumar cada fila, por que usar len en cantidad vendida,\n",
        "        print(f\"Monto total vendido: ${total_vendido}\")                              # es un error importante, ya que, cada fila puede contener una cantidad vendida diferente, no es 1 cantidad siempre, es necesario usar sum() y,\n",
        "                                                                                     # multiplicar cada cantidad por su precio correspondiente.\n",
        "\n",
        "    # Usamos input para dar opción de agregar nombre al archivo, luego con pd.Dataframe creamos un subset y luego lo transformamos en csv.\n",
        "    elif opcion == '3':\n",
        "        nombre_archivo = input(\"Ingrese el nombre del archivo para guardar (sin extensión, ya que por defecto será csv): \")\n",
        "        df_resumen = pd.DataFrame({'Cantidad de ventas': [sum(df_facturas['Cantidad vendida'])],'Monto total vendido': [sum(df_facturas['Cantidad vendida'] * df_facturas['Precio'])]})\n",
        "        df_resumen.to_csv(f\"{nombre_archivo}.csv\", index=False)\n",
        "        print(\"Archivo guardado exitosamente.\")\n",
        "\n",
        "    # Esta opción permite salir del programa.\n",
        "    elif opcion == '4':\n",
        "         print(\"Saliendo del programa.\")\n",
        "         break\n",
        "\n",
        "# Llamar a la función para iniciar el proceso\n",
        "ver_resumen()"
      ],
      "metadata": {
        "colab": {
          "base_uri": "https://localhost:8080/"
        },
        "id": "mT6XaaAwsyVg",
        "outputId": "add07583-a0b5-4179-979d-9f57dcba2c9e"
      },
      "execution_count": null,
      "outputs": [
        {
          "output_type": "stream",
          "name": "stdout",
          "text": [
            "Menú:\n",
            "Opción 1: Ver cantidad de ventas.\n",
            "Opción 2: Total vendido\n",
            "Opción 3: Guardar Resumen en formato csv.\n",
            "Opción 4: Salir del programa\n",
            "Ingrese la opción deseada: 4\n",
            "Saliendo del programa.\n"
          ]
        }
      ]
    },
    {
      "cell_type": "code",
      "source": [
        "# Función para ver el detalle de ventas:\n",
        "def ver_detalle():\n",
        "    global df_facturas # Global indica que vamos a modificar la variable global df_facturas dentro de esta función.\n",
        "\n",
        "    # Menú que imprime en la consola las opciones dadas al usuario, se espera que elija un número de opción.\n",
        "    print(\"Menú:\")\n",
        "    print(\"Opción 1: Ventas por usuario.\")\n",
        "    print(\"Opción 2: Ventas por producto.\")\n",
        "    print(\"Opción 3: Ventas diarias.\")\n",
        "    print(\"Opción 4: Guardar vista en formato csv.\")\n",
        "    print(\"Opción 5: Salir del programa\")\n",
        "\n",
        "    # Creamos un bucle while infinito con True para dar condiciones a cada opción y sus funcionalidades, también se agrega previamente opción = input para que el usuario elija la opción deseada.\n",
        "    while True:\n",
        "        opcion = input(\"Ingrese la opción deseada: \")\n",
        "\n",
        "        # Agrupa por columna clientes y suma los valores correspondientes en la columna cantidad vendida.\n",
        "        if opcion == '1':\n",
        "            try:\n",
        "                ventas_por_usuario = df_facturas.groupby('Cliente')['Cantidad vendida'].sum()\n",
        "                print(\"Ventas por usuario:\")\n",
        "                print(ventas_por_usuario)\n",
        "            except KeyError:\n",
        "                print(\"No existen datos de ventas disponibles.\")\n",
        "\n",
        "        # Agrupa por columna Nombre y suma los valores correspondientes en la columna cantidad vendida.\n",
        "        elif opcion == '2':\n",
        "            try:\n",
        "                ventas_por_producto = df_facturas.groupby('Nombre')['Cantidad vendida'].sum()\n",
        "                print(\"Ventas por producto:\")\n",
        "                print(ventas_por_producto)\n",
        "            except KeyError:\n",
        "                print(\"No existen datos de ventas disponibles.\")\n",
        "\n",
        "        # Agrupa por columna Fecha de venta y suma los valores correspondientes en la columna cantidad vendida.\n",
        "        elif opcion == '3':\n",
        "            try:\n",
        "                ventas_diarias = df_facturas.groupby('Fecha de venta')['Cantidad vendida'].sum()\n",
        "                print(\"Ventas diarias:\")\n",
        "                print(ventas_diarias)\n",
        "            except KeyError:\n",
        "                print(\"No existen datos de ventas disponibles.\")\n",
        "\n",
        "        # Creamos un df_detalle que contiene métricas anteriores para crear un df y transformarlo o exportarlo en formato csv.\n",
        "        elif opcion == '4':\n",
        "            nombre_archivo = input(\"Ingrese el nombre del archivo para guardar la vista (sin extensión, ya que por defecto será csv): \").strip() or \"vista_detalle\"\n",
        "            try:\n",
        "                df_detalle = pd.concat([ventas_por_usuario, ventas_por_producto, ventas_diarias], axis=1)\n",
        "                df_detalle.to_csv(f\"{nombre_archivo}.csv\")\n",
        "                print(\"Vista guardada exitosamente.\")\n",
        "            except:\n",
        "                print(\"Error al guardar la vista. Por favor, inténtelo de nuevo.\")\n",
        "\n",
        "        # Esta opción permite salir del programa.\n",
        "        elif opcion == '5':\n",
        "            print(\"Saliendo del programa.\")\n",
        "            break\n",
        "\n",
        "# Llamar a la función para iniciar el proceso.\n",
        "ver_detalle()"
      ],
      "metadata": {
        "colab": {
          "base_uri": "https://localhost:8080/"
        },
        "id": "n_el80eLB4oF",
        "outputId": "51d9ad4c-d105-4c52-eb09-7f370b85fbc3"
      },
      "execution_count": null,
      "outputs": [
        {
          "output_type": "stream",
          "name": "stdout",
          "text": [
            "Menú:\n",
            "Opción 1: Ventas por usuario.\n",
            "Opción 2: Ventas por producto.\n",
            "Opción 3: Ventas diarias.\n",
            "Opción 4: Guardar vista en formato csv.\n",
            "Opción 5: Salir del programa\n",
            "Ingrese la opción deseada: 1\n",
            "Ventas por usuario:\n",
            "Cliente\n",
            "Felipe    3\n",
            "Name: Cantidad vendida, dtype: object\n",
            "Ingrese la opción deseada: 2\n",
            "Ventas por producto:\n",
            "Nombre\n",
            "auto    3\n",
            "Name: Cantidad vendida, dtype: object\n",
            "Ingrese la opción deseada: 3\n",
            "Ventas diarias:\n",
            "Fecha de venta\n",
            "2024-03-17 03:04:28    3\n",
            "Name: Cantidad vendida, dtype: object\n",
            "Ingrese la opción deseada: 5\n",
            "Saliendo del programa.\n"
          ]
        }
      ]
    },
    {
      "cell_type": "code",
      "source": [
        "def eliminar_productos():\n",
        "    # Global indica que vamos a modificar la variable global df_productos dentro de esta función.\n",
        "    global df_productos\n",
        "    # Simplemente sobreescribimos df_productos con los valores predeterminados en un inicio.\n",
        "    df_productos = pd.DataFrame(columns=['Nombre', 'Precio'])\n",
        "    print(\"Datos de productos eliminados correctamente.\")\n",
        "\n",
        "def eliminar_facturas():\n",
        "    # Global indica que vamos a modificar la variable global df_facturas dentro de esta función.\n",
        "    global df_facturas\n",
        "    # Simplemente sobreescribimos df_facturas con los valores predeterminados en un inicio.\n",
        "    df_facturas = pd.DataFrame(columns=['Cliente', 'Nombre', 'Precio', 'Cantidad vendida', 'Fecha de venta'])\n",
        "    print(\"Datos de facturas eliminados correctamente.\")\n",
        "\n",
        "def eliminar_todos_los_datos():\n",
        "    # Global indica que vamos a modificar la variable global df_productos y df_facturas dentro de esta función.\n",
        "    global df_productos, df_facturas\n",
        "    # Simplemente sobreescribimos df_ productos y df_facturas con los valores predeterminados en un inicio.\n",
        "    df_productos = pd.DataFrame(columns=['Nombre', 'Precio'])\n",
        "    df_facturas = pd.DataFrame(columns=['Cliente', 'Nombre', 'Precio', 'Cantidad vendida', 'Fecha de venta'])\n",
        "    print(\"Todos los datos han sido eliminados.\")\n",
        "\n",
        "# Ofrecemos un print del Menú para que el usuario elija una opción posteriormente mediante input.\n",
        "def borrar_datos():\n",
        "    print(\"Menú:\")\n",
        "    print(\"Opción 1: Eliminar datos de productos\")\n",
        "    print(\"Opción 2: Eliminar datos de facturas\")\n",
        "    print(\"Opción 3: Eliminar todos los datos\")\n",
        "    print(\"Opción 4: Salir del programa\")\n",
        "\n",
        "    # Creamos un bucle while infinito con True para dar condiciones a cada opción y sus funcionalidades, también se agrega previamente opción = input para que el usuario elija la opción deseada.\n",
        "    while True:\n",
        "        opcion = input(\"Ingrese la opción deseada: \")\n",
        "\n",
        "        # Opciones para eliminar según def creadas anteriormente.\n",
        "        if opcion == '1':\n",
        "            eliminar_productos()\n",
        "        elif opcion == '2':\n",
        "            eliminar_facturas()\n",
        "        elif opcion == '3':\n",
        "            eliminar_todos_los_datos()\n",
        "        elif opcion == '4':\n",
        "            print(\"Volviendo al menú principal.\")\n",
        "            break\n",
        "        else:\n",
        "            print(\"Opción no válida. Por favor, elija una opción del menú.\")\n",
        "\n",
        "# Llamar a la función para iniciar el proceso.\n",
        "borrar_datos()\n",
        "\n",
        "# Fin Código."
      ],
      "metadata": {
        "id": "Tvan77MxFAy2",
        "colab": {
          "base_uri": "https://localhost:8080/"
        },
        "outputId": "dabc40bd-120c-426b-abdc-c3321c3c5ce3"
      },
      "execution_count": null,
      "outputs": [
        {
          "output_type": "stream",
          "name": "stdout",
          "text": [
            "Menú:\n",
            "Opción 1: Eliminar datos de productos\n",
            "Opción 2: Eliminar datos de facturas\n",
            "Opción 3: Eliminar todos los datos\n",
            "Opción 4: Salir del programa\n",
            "Ingrese la opción deseada: 3\n",
            "Todos los datos han sido eliminados.\n",
            "Ingrese la opción deseada: 4\n",
            "Volviendo al menú principal.\n"
          ]
        }
      ]
    },
    {
      "cell_type": "markdown",
      "source": [
        "Link Githube:\n",
        "https://github.com/Felipecl22/BootCamp/blob/07f9f97e66c1adf05f739977696e1851d8e76fdb/Sprint2_Felipe_Mardones.ipynb"
      ],
      "metadata": {
        "id": "RDyTpmsd5Zm1"
      }
    }
  ],
  "metadata": {
    "colab": {
      "provenance": [],
      "authorship_tag": "ABX9TyMcG7L6iI63kTpC0jvdp9VD",
      "include_colab_link": true
    },
    "kernelspec": {
      "display_name": "Python 3",
      "name": "python3"
    },
    "language_info": {
      "name": "python"
    }
  },
  "nbformat": 4,
  "nbformat_minor": 0
}