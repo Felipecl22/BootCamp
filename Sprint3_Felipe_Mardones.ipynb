{
  "nbformat": 4,
  "nbformat_minor": 0,
  "metadata": {
    "colab": {
      "provenance": [],
      "authorship_tag": "ABX9TyMsFy9p16JHWuxj6vKtTfzD",
      "include_colab_link": true
    },
    "kernelspec": {
      "name": "python3",
      "display_name": "Python 3"
    },
    "language_info": {
      "name": "python"
    }
  },
  "cells": [
    {
      "cell_type": "markdown",
      "metadata": {
        "id": "view-in-github",
        "colab_type": "text"
      },
      "source": [
        "<a href=\"https://colab.research.google.com/github/Felipecl22/BootCamp/blob/main/Sprint3_Felipe_Mardones.ipynb\" target=\"_parent\"><img src=\"https://colab.research.google.com/assets/colab-badge.svg\" alt=\"Open In Colab\"/></a>"
      ]
    },
    {
      "cell_type": "markdown",
      "source": [
        "Nombre alumno: Felipe Mardones Guzmán.\n",
        "\n",
        "Sprint: 3."
      ],
      "metadata": {
        "id": "rVatIlSGQUnR"
      }
    },
    {
      "cell_type": "code",
      "source": [
        "# Importamos la librería pandas con alias pd para simplificar la llamada, aunque pandas no es un nombre extenso y complicado de recordar otras librerías si lo son por eso alias es muy útil.\n",
        "# Busque por curiosidad por que el nombre \"pandas\" y fue nombrada así por \"panel data\", que se refiere a datos tabulares (datos organizados en filas y columnas, como una hoja de cálculo), no tiene\n",
        "# nada que ver con animales xp.\n",
        "\n",
        "import pandas as pd"
      ],
      "metadata": {
        "id": "omWfkcqP4uCC"
      },
      "execution_count": 1,
      "outputs": []
    },
    {
      "cell_type": "markdown",
      "source": [
        "1. Crear el DataFrame indexado del ejecicio:"
      ],
      "metadata": {
        "id": "gVX-xUVPJD9L"
      }
    },
    {
      "cell_type": "code",
      "source": [
        "# Primero creamos el DataFrame que aparece en el ejercicio, para ello creamos un diccionario con columnas superiores llamadas 'Calorías' y 'Tiempo' para luego,\n",
        "# usando otro diccionario (dentro) y como primer elemento del diccionario principal se agrega el índice y el valor correspondiente.\n",
        "# Se utiliza pd.DataFrame para transformar el diccionario en un objeto dataframe y se imprime los resultados y el data type.\n",
        "\n",
        "# Creación data:\n",
        "datos_actividad_fisica = {\n",
        "    \"Calorias\": {'L': 420, 'M': 380, 'X': 390, 'J': 490, 'V': 300},\n",
        "    \"Tiempo\": {'L': 60, 'M': 40, 'X': 75, 'J': 55, 'V': 45}\n",
        "}\n",
        "\n",
        "# Transformación objeto:\n",
        "df_actividad_fisica = pd.DataFrame(datos_actividad_fisica)\n",
        "\n",
        "# Resultados:\n",
        "print('DataFrame con datos de la actividad física:')\n",
        "print(df_actividad_fisica)\n",
        "print('Tipo de objeto:')\n",
        "print(type(df_actividad_fisica))"
      ],
      "metadata": {
        "colab": {
          "base_uri": "https://localhost:8080/"
        },
        "id": "FTnZIAmQ5HZj",
        "outputId": "b775551c-c343-4e26-cb3a-57c1f6d8a6bc"
      },
      "execution_count": 42,
      "outputs": [
        {
          "output_type": "stream",
          "name": "stdout",
          "text": [
            "DataFrame con datos de la actividad física:\n",
            "   Calorias  Tiempo\n",
            "L       420      60\n",
            "M       380      40\n",
            "X       390      75\n",
            "J       490      55\n",
            "V       300      45\n",
            "Tipo de objeto:\n",
            "<class 'pandas.core.frame.DataFrame'>\n"
          ]
        }
      ]
    },
    {
      "cell_type": "markdown",
      "source": [
        "2. Calcular la media, mediana, y desviación típica de ambas columnas"
      ],
      "metadata": {
        "id": "K-wgWntlBbq1"
      }
    },
    {
      "cell_type": "code",
      "source": [
        "# Calculamos la media de cada variable del df_actividad_fisica, haciendo un subset de cada columna y aplicando mean() para obtener la media de la columna.\n",
        "media_calorias = df_actividad_fisica['Calorias'].mean()\n",
        "media_tiempo = df_actividad_fisica['Tiempo'].mean()\n",
        "\n",
        "# Calculamos la mediana de cada variable del df_actividad_fisica, haciendo un subset de cada columna y aplicando median() para obtener la mediana de la columna.\n",
        "mediana_calorias = df_actividad_fisica['Calorias'].median()\n",
        "mediana_tiempo = df_actividad_fisica['Tiempo'].median()\n",
        "\n",
        "# Calculamos la desviación estándar de cada variable del df_actividad_fisica, haciendo un subset de cada columna y aplicando std() para obtener la desviación estándar de la columna.\n",
        "desviacion_estandar_calorias = df_actividad_fisica['Calorias'].std()\n",
        "desviacion_estandar_tiempo = df_actividad_fisica['Tiempo'].std()\n",
        "\n",
        "# Luego creamos un diccionario con las medidas obtenidas del mismo modo que hicimos con df_actividad_fisica, para posteriormente transformalo a una Dataframe, imprimiendo el resultado\n",
        "# y redondeando a dos decimales para una mejor legibilidad de los resultados.\n",
        "resumen_stats = {\n",
        "    'Calorias': {'Media':media_calorias, 'Mediana':mediana_calorias, 'Desviación Estándar':desviacion_estandar_calorias},\n",
        "    'Tiempo': {'Media':media_tiempo, 'Mediana':mediana_tiempo, 'Desviación Estándar':desviacion_estandar_tiempo}\n",
        "}\n",
        "\n",
        "df_resumen_stats = pd.DataFrame(resumen_stats)\n",
        "df_resumen_stats = df_resumen_stats.round(2)\n",
        "print(df_resumen_stats)"
      ],
      "metadata": {
        "colab": {
          "base_uri": "https://localhost:8080/"
        },
        "id": "_wipdA8pA9BS",
        "outputId": "8d913f1b-73a5-4c49-9134-c243a776ae75"
      },
      "execution_count": 43,
      "outputs": [
        {
          "output_type": "stream",
          "name": "stdout",
          "text": [
            "                     Calorias  Tiempo\n",
            "Media                  396.00   55.00\n",
            "Mediana                390.00   55.00\n",
            "Desviación Estándar     68.77   13.69\n"
          ]
        }
      ]
    },
    {
      "cell_type": "markdown",
      "source": [
        "3. Añadir otra columna booleana al DataFrame para ver si se ha\n",
        "cumplido el reto de quemar más de 400 calorías por hora. La nueva\n",
        "columna debe generarse aplicando una fórmula a las otras columnas.\n",
        "El DataFrame resultante debe ser el siguiente:"
      ],
      "metadata": {
        "id": "BN0gGu8FRs3x"
      }
    },
    {
      "cell_type": "code",
      "source": [
        "# Creamos primero una nueva columna llamada 'Calorias quemadas' dentro almacenamos la siguiente fórmula:\n",
        "# Tomamos un subset de f_actividad_fisica['Calorias'] y la dividimos por el subset de df_actividad_fisica['Tiempo'], esto nos da calorías por tiempo,\n",
        "# luego agregamos un condición > 400/60, es decir, buscamos los valores que sean mayores a 400 calorías por minuto.\n",
        "# Finalmente obtenemos una nueva columna booleana con True cuando cumple la condición y con False cuando no la cumple.\n",
        "\n",
        "# Creación de la columna.\n",
        "df_actividad_fisica['Calorias quemadas'] = (df_actividad_fisica['Calorias'] / df_actividad_fisica['Tiempo']) > 400/60\n",
        "\n",
        "# Resultado de la columna.\n",
        "print(df_actividad_fisica)"
      ],
      "metadata": {
        "colab": {
          "base_uri": "https://localhost:8080/"
        },
        "id": "mLqN57FkRpFC",
        "outputId": "19d82e88-0c4c-4612-eabc-5e4422f93a77"
      },
      "execution_count": 44,
      "outputs": [
        {
          "output_type": "stream",
          "name": "stdout",
          "text": [
            "   Calorias  Tiempo  Calorias quemadas\n",
            "L       420      60               True\n",
            "M       380      40               True\n",
            "X       390      75              False\n",
            "J       490      55               True\n",
            "V       300      45              False\n"
          ]
        }
      ]
    },
    {
      "cell_type": "markdown",
      "source": [
        "4. Filtrar el DataFrame y devolver otro DataFrame con las filas pares que\n",
        "cumplan que el número de calorías es mayor de 400."
      ],
      "metadata": {
        "id": "K3d1KgDPToV9"
      }
    },
    {
      "cell_type": "code",
      "source": [
        "# Primero se filtra la data en filas pares, que significa eso o más bien que entendí yo, es con respecto a los indices los cuales son pares, en este caso 0,2,4 son pares, ya que no dejan residuo en su división por 2.\n",
        "# Usamos iloc para acceder con el índice de cada columna, en este caso ::2, significa que como inicio y final queremos tomar toda la data, es decirm no especificamos nada, y 2 para saltar una fila y seleccionar la siguiente.\n",
        "\n",
        "# Creación de 'df_filas_pares' filtrando la data.\n",
        "# Se imprime el resultado.\n",
        "df_filas_pares = df_actividad_fisica.iloc[::2]\n",
        "print('Filas pares:')\n",
        "print(df_filas_pares)\n",
        "\n",
        "# Creación de 'df_filas_pares_sobre_400_calorias' filtrando df_filas_pares para valores en la columna 'Calorías' sobre 400.\n",
        "# Se imprime el resultado.\n",
        "df_filas_pares_sobre_400_calorias = df_filas_pares[df_filas_pares['Calorias']>400]\n",
        "print('Filas pares sobre 400 calorías:')\n",
        "print(df_filas_pares_sobre_400_calorias)\n",
        "\n",
        "# Nota para mi aprendizaje (No considerar):\n",
        "# No hay necesidad de complicar el código si lo que tienes ya funciona correctamente y es fácil de entender.\n",
        "# Utilizar una función definida puede ser útil si planeas reutilizar esa lógica en múltiples lugares de tu código,\n",
        "# pero si no necesitas esa reutilización, tu enfoque directo sin definir funciones es igualmente válido y claro.\n",
        "# Considera crear una fórmula cuando necesites utilizarla reiteradamente."
      ],
      "metadata": {
        "colab": {
          "base_uri": "https://localhost:8080/"
        },
        "id": "EcVVnMS1TZoN",
        "outputId": "11296a80-f403-4b86-9cd5-6e090c199798"
      },
      "execution_count": 5,
      "outputs": [
        {
          "output_type": "stream",
          "name": "stdout",
          "text": [
            "Filas pares:\n",
            "   Calorias  Tiempo  Calorias quemadas\n",
            "L       420      60               True\n",
            "X       390      75              False\n",
            "V       300      45              False\n",
            "Filas pares sobre 400 calorías:\n",
            "   Calorias  Tiempo  Calorias quemadas\n",
            "L       420      60               True\n"
          ]
        }
      ]
    },
    {
      "cell_type": "markdown",
      "source": [
        "5. Crear a partir del DataFrame una serie con los porcentajes de días que\n",
        "se ha conseguido el reto y los que no."
      ],
      "metadata": {
        "id": "Rorg-VM9WRKo"
      }
    },
    {
      "cell_type": "code",
      "source": [
        "# Generamos una serie con los datos de la columna calorías quemadas y contamos sus valores usando value_counts().\n",
        "# Cuando se accede a una única columna de un DataFrame utilizando la notación df['nombre_columna'], se obtiene una Serie de Pandas, no un DataFrame.\n",
        "serie_cumplio_reto = df_actividad_fisica['Calorias quemadas'].value_counts()\n",
        "\n",
        "# Calcular los porcentajes de días que se ha conseguido el reto y los que no.\n",
        "# Usamos nuestra serie 'serie_cumplio_reto' que contiene los valores de True y False, luego a cada uno lo dividmos por el total de valores en la muestra y multiplacamos por 100 para obtener el porcentaje en int y no decimal.\n",
        "porcentaje_si = (serie_cumplio_reto[True] / len(df_actividad_fisica)) * 100\n",
        "porcentaje_no = (serie_cumplio_reto[False] / len(df_actividad_fisica)) * 100\n",
        "\n",
        "# Crear una serie con los porcentajes creados.\n",
        "serie_porcentajes = pd.Series({'Si': porcentaje_si, 'No': porcentaje_no})\n",
        "\n",
        "# Resultados impresos.\n",
        "print(f'El porcentaje de SI cumplio el reto es: {serie_porcentajes[\"Si\"]}%')\n",
        "print(f'El porcentaje de NO cumplio el reto es: {serie_porcentajes[\"No\"]}%')\n",
        "print(type(serie_porcentajes))"
      ],
      "metadata": {
        "colab": {
          "base_uri": "https://localhost:8080/"
        },
        "id": "rxI_5S_LUwmj",
        "outputId": "54caabbb-cbcb-4385-e064-3dbbaa73ae7c"
      },
      "execution_count": 47,
      "outputs": [
        {
          "output_type": "stream",
          "name": "stdout",
          "text": [
            "El porcentaje de SI cumplio el reto es: 60.0%\n",
            "El porcentaje de NO cumplio el reto es: 40.0%\n",
            "<class 'pandas.core.series.Series'>\n"
          ]
        }
      ]
    },
    {
      "cell_type": "markdown",
      "source": [
        "6. Crear un gráfico como el de más abajo que muestre la progresión de\n",
        "las calorías y tiempo durante la semana."
      ],
      "metadata": {
        "id": "UhDqTvkPwZ9Y"
      }
    },
    {
      "cell_type": "code",
      "source": [
        "# Importamos la librería matplotlib con el alias plt para un código mas legible.\n",
        "import matplotlib.pyplot as plt\n",
        "\n",
        "# Establecemos loatos necearios para el crear el gráfico.\n",
        "\n",
        "dias = ['L', 'M', 'X', 'J', 'V']\n",
        "calorias = df_actividad_fisica['Calorias']\n",
        "tiempo = df_actividad_fisica['Tiempo']\n",
        "\n",
        "# Graficamos los datos de calorías y tiempo en función de los días de la semana.\n",
        "\n",
        "# Creamos un gráfico que muestra cómo cambian las calorías y el tiempo de ejercicio a lo largo de la semana.\n",
        "# Utilizamos plt.plot para crear el gráfico. En el eje horizontal (x), representamos los días de la semana. En el eje vertical (y), mostramos las calorías quemadas y el tiempo de ejercicio, tambien\n",
        "# usamos 'o' como tipo de marcador (marker) para representar los par de puntos en el gráfico, se pueden usar muchos otros como por ejemplo, '+'.\n",
        "# Utilizamos 'label' para etiquetar las líneas en el gráfico. 'Calorías' representa la línea de calorías quemadas y 'Tiempo' representa la línea de tiempo de ejercicio.\n",
        "plt.plot(dias, calorias, marker='o', label='Calorías')\n",
        "plt.plot(dias, tiempo, marker='o', label='Tiempo')\n",
        "\n",
        "# En este paso agregamos datos necesario para una mejor compresión del gráfico.\n",
        "# plt.title agrega un título centrado al gráfico.\n",
        "# plt.xlabel agrega la etiqueta al eje x.\n",
        "# plt.ylabel agrega la etiqueta al eje y.\n",
        "# plt.legend() muestra las variables graficadas.\n",
        "# plt.grid permite insertar al gráfico líneas de fondo para identificar mejor los par de puntos en el plano cartesiano, se usa True para mostrar la cuadrícula en el gráfico, tambien se usa\n",
        "# color para darle color a la cuadrícula y linewidth el ancho de las líneas de la cuadrícula.\n",
        "plt.title('Evolución diaria de Calorías y Tiempo')\n",
        "plt.xlabel('Día de la semana')\n",
        "plt.ylabel('Calorías quemadas')\n",
        "plt.legend()\n",
        "plt.grid(True, color='gray', linestyle='-', linewidth=0.5)\n",
        "\n",
        "# Este comando es necesario para mostrar el gráfico, sino no se podría visualizar.\n",
        "plt.show()"
      ],
      "metadata": {
        "id": "GqYJeu4BXPZQ",
        "colab": {
          "base_uri": "https://localhost:8080/",
          "height": 472
        },
        "outputId": "a26c8b9b-4d44-4dc7-de0d-42c9336d0ec6"
      },
      "execution_count": 46,
      "outputs": [
        {
          "output_type": "display_data",
          "data": {
            "text/plain": [
              "<Figure size 640x480 with 1 Axes>"
            ],
            "image/png": "[encoded data removed]"
          },
          "metadata": {}
        }
      ]
    },
    {
      "cell_type": "code",
      "source": [
        "# Fin código."
      ],
      "metadata": {
        "id": "LxOaDUt4JTl8"
      },
      "execution_count": null,
      "outputs": []
    },
    {
      "cell_type": "markdown",
      "source": [
        "Link Github:\n",
        "https://github.com/Felipecl22/BootCamp/blob/a5b11c5bf9afc86a5b86f481e5fe90f4604b5dab/Sprint3_Felipe_Mardones.ipynb"
      ],
      "metadata": {
        "id": "cesxo2bBQMxZ"
      }
    }
  ]
}