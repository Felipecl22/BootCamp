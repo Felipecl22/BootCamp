{
  "nbformat": 4,
  "nbformat_minor": 0,
  "metadata": {
    "colab": {
      "provenance": [],
      "authorship_tag": "ABX9TyPxu85ipFDb0apGec71FEGv",
      "include_colab_link": true
    },
    "kernelspec": {
      "name": "python3",
      "display_name": "Python 3"
    },
    "language_info": {
      "name": "python"
    }
  },
  "cells": [
    {
      "cell_type": "markdown",
      "metadata": {
        "id": "view-in-github",
        "colab_type": "text"
      },
      "source": [
        "<a href=\"https://colab.research.google.com/github/Felipecl22/BootCamp/blob/main/Sprint4_Felipe_Mardones.ipynb\" target=\"_parent\"><img src=\"https://colab.research.google.com/assets/colab-badge.svg\" alt=\"Open In Colab\"/></a>"
      ]
    },
    {
      "cell_type": "code",
      "execution_count": 50,
      "metadata": {
        "colab": {
          "base_uri": "https://localhost:8080/"
        },
        "id": "gu5SWsoo12o5",
        "outputId": "ecd729e7-cdd8-42de-e253-570c3e870684"
      },
      "outputs": [
        {
          "output_type": "stream",
          "name": "stdout",
          "text": [
            "Drive already mounted at /content/drive; to attempt to forcibly remount, call drive.mount(\"/content/drive\", force_remount=True).\n"
          ]
        }
      ],
      "source": [
        "from google.colab import drive\n",
        "drive.mount('/content/drive')\n",
        "\n",
        "# Montando el drive para acceder a los archivos, ya que tengo los csv en mi Drive, esto no es necesario si ustedes tienen el archivo en su escritorio."
      ]
    },
    {
      "cell_type": "code",
      "source": [
        "import pandas as pd\n",
        "import numpy as np\n",
        "import matplotlib.pyplot as plt"
      ],
      "metadata": {
        "id": "8bYN-R_Y2Ybs"
      },
      "execution_count": 51,
      "outputs": []
    },
    {
      "cell_type": "code",
      "source": [
        "# Ruta del archivo CSV en Google Drive.\n",
        "productos_csv = '/content/drive/My Drive/Colab Notebooks/Módulo 4/house.csv'\n",
        "\n",
        "# Importando la data y transformandola a objeto Dataframe.\n",
        "# En este poner el path correspondiente del archivo como parametro de pd.read_csv.\n",
        "df_house = pd.read_csv(productos_csv)\n",
        "\n",
        "# Mostrando las columnas de df_house.\n",
        "print(df_house.columns)\n",
        "# Contando la cantidad de columnas de df_house.\n",
        "print(len(df_house.columns))\n",
        "# Obteniendo el type de df_house.\n",
        "print(type(df_house))"
      ],
      "metadata": {
        "colab": {
          "base_uri": "https://localhost:8080/"
        },
        "id": "ywKgp39T2djT",
        "outputId": "293b7d3c-1dd3-42fe-f07a-8dd3c5950211"
      },
      "execution_count": 52,
      "outputs": [
        {
          "output_type": "stream",
          "name": "stdout",
          "text": [
            "Index(['Id', 'MSSubClass', 'MSZoning', 'LotFrontage', 'LotArea', 'Street',\n",
            "       'Alley', 'LotShape', 'LandContour', 'Utilities', 'LotConfig',\n",
            "       'LandSlope', 'Neighborhood', 'Condition1', 'Condition2', 'BldgType',\n",
            "       'HouseStyle', 'OverallQual', 'OverallCond', 'YearBuilt', 'YearRemodAdd',\n",
            "       'RoofStyle', 'RoofMatl', 'Exterior1st', 'Exterior2nd', 'MasVnrType',\n",
            "       'MasVnrArea', 'ExterQual', 'ExterCond', 'Foundation', 'BsmtQual',\n",
            "       'BsmtCond', 'BsmtExposure', 'BsmtFinType1', 'BsmtFinSF1',\n",
            "       'BsmtFinType2', 'BsmtFinSF2', 'BsmtUnfSF', 'TotalBsmtSF', 'Heating',\n",
            "       'HeatingQC', 'CentralAir', 'Electrical', '1stFlrSF', '2ndFlrSF',\n",
            "       'LowQualFinSF', 'GrLivArea', 'BsmtFullBath', 'BsmtHalfBath', 'FullBath',\n",
            "       'HalfBath', 'BedroomAbvGr', 'KitchenAbvGr', 'KitchenQual',\n",
            "       'TotRmsAbvGrd', 'Functional', 'Fireplaces', 'FireplaceQu', 'GarageType',\n",
            "       'GarageYrBlt', 'GarageFinish', 'GarageCars', 'GarageArea', 'GarageQual',\n",
            "       'GarageCond', 'PavedDrive', 'WoodDeckSF', 'OpenPorchSF',\n",
            "       'EnclosedPorch', '3SsnPorch', 'ScreenPorch', 'PoolArea', 'PoolQC',\n",
            "       'Fence', 'MiscFeature', 'MiscVal', 'MoSold', 'YrSold', 'SaleType',\n",
            "       'SaleCondition', 'SalePrice'],\n",
            "      dtype='object')\n",
            "81\n",
            "<class 'pandas.core.frame.DataFrame'>\n"
          ]
        }
      ]
    },
    {
      "cell_type": "markdown",
      "source": [
        "Debe cargar la base y eliminar las siguientes variables, Alley, FireplaceQu,\n",
        "PoolQC, Fence, MiscFeature, LotFrontage."
      ],
      "metadata": {
        "id": "vKzYnLzbAv1i"
      }
    },
    {
      "cell_type": "code",
      "source": [
        "variables_a_eliminar = ['Alley','FireplaceQu','PoolQC', 'Fence', 'MiscFeature', 'LotFrontage']\n",
        "\n",
        "df_house_limpia = df_house.drop(variables_a_eliminar, axis=1)\n",
        "print(df_house_limpia.columns)\n",
        "print(len(df_house_limpia.columns))"
      ],
      "metadata": {
        "colab": {
          "base_uri": "https://localhost:8080/"
        },
        "id": "teNVyJtJ251d",
        "outputId": "c46ed3a8-df8b-4eea-85cf-033268b29782"
      },
      "execution_count": 53,
      "outputs": [
        {
          "output_type": "stream",
          "name": "stdout",
          "text": [
            "Index(['Id', 'MSSubClass', 'MSZoning', 'LotArea', 'Street', 'LotShape',\n",
            "       'LandContour', 'Utilities', 'LotConfig', 'LandSlope', 'Neighborhood',\n",
            "       'Condition1', 'Condition2', 'BldgType', 'HouseStyle', 'OverallQual',\n",
            "       'OverallCond', 'YearBuilt', 'YearRemodAdd', 'RoofStyle', 'RoofMatl',\n",
            "       'Exterior1st', 'Exterior2nd', 'MasVnrType', 'MasVnrArea', 'ExterQual',\n",
            "       'ExterCond', 'Foundation', 'BsmtQual', 'BsmtCond', 'BsmtExposure',\n",
            "       'BsmtFinType1', 'BsmtFinSF1', 'BsmtFinType2', 'BsmtFinSF2', 'BsmtUnfSF',\n",
            "       'TotalBsmtSF', 'Heating', 'HeatingQC', 'CentralAir', 'Electrical',\n",
            "       '1stFlrSF', '2ndFlrSF', 'LowQualFinSF', 'GrLivArea', 'BsmtFullBath',\n",
            "       'BsmtHalfBath', 'FullBath', 'HalfBath', 'BedroomAbvGr', 'KitchenAbvGr',\n",
            "       'KitchenQual', 'TotRmsAbvGrd', 'Functional', 'Fireplaces', 'GarageType',\n",
            "       'GarageYrBlt', 'GarageFinish', 'GarageCars', 'GarageArea', 'GarageQual',\n",
            "       'GarageCond', 'PavedDrive', 'WoodDeckSF', 'OpenPorchSF',\n",
            "       'EnclosedPorch', '3SsnPorch', 'ScreenPorch', 'PoolArea', 'MiscVal',\n",
            "       'MoSold', 'YrSold', 'SaleType', 'SaleCondition', 'SalePrice'],\n",
            "      dtype='object')\n",
            "75\n"
          ]
        }
      ]
    },
    {
      "cell_type": "markdown",
      "source": [
        "Luego realice un resumen estadístico con las variables que han quedado en la base."
      ],
      "metadata": {
        "id": "IdqdOx9AA6ZQ"
      }
    },
    {
      "cell_type": "code",
      "source": [
        "df_house_limpia.describe()"
      ],
      "metadata": {
        "colab": {
          "base_uri": "https://localhost:8080/",
          "height": 350
        },
        "id": "pSXLBGpf4GWe",
        "outputId": "3cf3225f-0757-4173-cd90-3e8b07352070"
      },
      "execution_count": 54,
      "outputs": [
        {
          "output_type": "execute_result",
          "data": {
            "text/plain": [
              "                Id   MSSubClass        LotArea  OverallQual  OverallCond  \\\n",
              "count  1460.000000  1460.000000    1460.000000  1460.000000  1460.000000   \n",
              "mean    730.500000    56.897260   10516.828082     6.099315     5.575342   \n",
              "std     421.610009    42.300571    9981.264932     1.382997     1.112799   \n",
              "min       1.000000    20.000000    1300.000000     1.000000     1.000000   \n",
              "25%     365.750000    20.000000    7553.500000     5.000000     5.000000   \n",
              "50%     730.500000    50.000000    9478.500000     6.000000     5.000000   \n",
              "75%    1095.250000    70.000000   11601.500000     7.000000     6.000000   \n",
              "max    1460.000000   190.000000  215245.000000    10.000000     9.000000   \n",
              "\n",
              "         YearBuilt  YearRemodAdd   MasVnrArea   BsmtFinSF1   BsmtFinSF2  ...  \\\n",
              "count  1460.000000   1460.000000  1452.000000  1460.000000  1460.000000  ...   \n",
              "mean   1971.267808   1984.865753   103.685262   443.639726    46.549315  ...   \n",
              "std      30.202904     20.645407   181.066207   456.098091   161.319273  ...   \n",
              "min    1872.000000   1950.000000     0.000000     0.000000     0.000000  ...   \n",
              "25%    1954.000000   1967.000000     0.000000     0.000000     0.000000  ...   \n",
              "50%    1973.000000   1994.000000     0.000000   383.500000     0.000000  ...   \n",
              "75%    2000.000000   2004.000000   166.000000   712.250000     0.000000  ...   \n",
              "max    2010.000000   2010.000000  1600.000000  5644.000000  1474.000000  ...   \n",
              "\n",
              "        WoodDeckSF  OpenPorchSF  EnclosedPorch    3SsnPorch  ScreenPorch  \\\n",
              "count  1460.000000  1460.000000    1460.000000  1460.000000  1460.000000   \n",
              "mean     94.244521    46.660274      21.954110     3.409589    15.060959   \n",
              "std     125.338794    66.256028      61.119149    29.317331    55.757415   \n",
              "min       0.000000     0.000000       0.000000     0.000000     0.000000   \n",
              "25%       0.000000     0.000000       0.000000     0.000000     0.000000   \n",
              "50%       0.000000    25.000000       0.000000     0.000000     0.000000   \n",
              "75%     168.000000    68.000000       0.000000     0.000000     0.000000   \n",
              "max     857.000000   547.000000     552.000000   508.000000   480.000000   \n",
              "\n",
              "          PoolArea       MiscVal       MoSold       YrSold      SalePrice  \n",
              "count  1460.000000   1460.000000  1460.000000  1460.000000    1460.000000  \n",
              "mean      2.758904     43.489041     6.321918  2007.815753  180921.195890  \n",
              "std      40.177307    496.123024     2.703626     1.328095   79442.502883  \n",
              "min       0.000000      0.000000     1.000000  2006.000000   34900.000000  \n",
              "25%       0.000000      0.000000     5.000000  2007.000000  129975.000000  \n",
              "50%       0.000000      0.000000     6.000000  2008.000000  163000.000000  \n",
              "75%       0.000000      0.000000     8.000000  2009.000000  214000.000000  \n",
              "max     738.000000  15500.000000    12.000000  2010.000000  755000.000000  \n",
              "\n",
              "[8 rows x 37 columns]"
            ],
            "text/html": [
              "\n",
              "  <div id=\"df-c6d9420f-92a5-4298-b596-7f2e36d8030e\" class=\"colab-df-container\">\n",
              "    <div>\n",
              "<style scoped>\n",
              "    .dataframe tbody tr th:only-of-type {\n",
              "        vertical-align: middle;\n",
              "    }\n",
              "\n",
              "    .dataframe tbody tr th {\n",
              "        vertical-align: top;\n",
              "    }\n",
              "\n",
              "    .dataframe thead th {\n",
              "        text-align: right;\n",
              "    }\n",
              "</style>\n",
              "<table border=\"1\" class=\"dataframe\">\n",
              "  <thead>\n",
              "    <tr style=\"text-align: right;\">\n",
              "      <th></th>\n",
              "      <th>Id</th>\n",
              "      <th>MSSubClass</th>\n",
              "      <th>LotArea</th>\n",
              "      <th>OverallQual</th>\n",
              "      <th>OverallCond</th>\n",
              "      <th>YearBuilt</th>\n",
              "      <th>YearRemodAdd</th>\n",
              "      <th>MasVnrArea</th>\n",
              "      <th>BsmtFinSF1</th>\n",
              "      <th>BsmtFinSF2</th>\n",
              "      <th>...</th>\n",
              "      <th>WoodDeckSF</th>\n",
              "      <th>OpenPorchSF</th>\n",
              "      <th>EnclosedPorch</th>\n",
              "      <th>3SsnPorch</th>\n",
              "      <th>ScreenPorch</th>\n",
              "      <th>PoolArea</th>\n",
              "      <th>MiscVal</th>\n",
              "      <th>MoSold</th>\n",
              "      <th>YrSold</th>\n",
              "      <th>SalePrice</th>\n",
              "    </tr>\n",
              "  </thead>\n",
              "  <tbody>\n",
              "    <tr>\n",
              "      <th>count</th>\n",
              "      <td>1460.000000</td>\n",
              "      <td>1460.000000</td>\n",
              "      <td>1460.000000</td>\n",
              "      <td>1460.000000</td>\n",
              "      <td>1460.000000</td>\n",
              "      <td>1460.000000</td>\n",
              "      <td>1460.000000</td>\n",
              "      <td>1452.000000</td>\n",
              "      <td>1460.000000</td>\n",
              "      <td>1460.000000</td>\n",
              "      <td>...</td>\n",
              "      <td>1460.000000</td>\n",
              "      <td>1460.000000</td>\n",
              "      <td>1460.000000</td>\n",
              "      <td>1460.000000</td>\n",
              "      <td>1460.000000</td>\n",
              "      <td>1460.000000</td>\n",
              "      <td>1460.000000</td>\n",
              "      <td>1460.000000</td>\n",
              "      <td>1460.000000</td>\n",
              "      <td>1460.000000</td>\n",
              "    </tr>\n",
              "    <tr>\n",
              "      <th>mean</th>\n",
              "      <td>730.500000</td>\n",
              "      <td>56.897260</td>\n",
              "      <td>10516.828082</td>\n",
              "      <td>6.099315</td>\n",
              "      <td>5.575342</td>\n",
              "      <td>1971.267808</td>\n",
              "      <td>1984.865753</td>\n",
              "      <td>103.685262</td>\n",
              "      <td>443.639726</td>\n",
              "      <td>46.549315</td>\n",
              "      <td>...</td>\n",
              "      <td>94.244521</td>\n",
              "      <td>46.660274</td>\n",
              "      <td>21.954110</td>\n",
              "      <td>3.409589</td>\n",
              "      <td>15.060959</td>\n",
              "      <td>2.758904</td>\n",
              "      <td>43.489041</td>\n",
              "      <td>6.321918</td>\n",
              "      <td>2007.815753</td>\n",
              "      <td>180921.195890</td>\n",
              "    </tr>\n",
              "    <tr>\n",
              "      <th>std</th>\n",
              "      <td>421.610009</td>\n",
              "      <td>42.300571</td>\n",
              "      <td>9981.264932</td>\n",
              "      <td>1.382997</td>\n",
              "      <td>1.112799</td>\n",
              "      <td>30.202904</td>\n",
              "      <td>20.645407</td>\n",
              "      <td>181.066207</td>\n",
              "      <td>456.098091</td>\n",
              "      <td>161.319273</td>\n",
              "      <td>...</td>\n",
              "      <td>125.338794</td>\n",
              "      <td>66.256028</td>\n",
              "      <td>61.119149</td>\n",
              "      <td>29.317331</td>\n",
              "      <td>55.757415</td>\n",
              "      <td>40.177307</td>\n",
              "      <td>496.123024</td>\n",
              "      <td>2.703626</td>\n",
              "      <td>1.328095</td>\n",
              "      <td>79442.502883</td>\n",
              "    </tr>\n",
              "    <tr>\n",
              "      <th>min</th>\n",
              "      <td>1.000000</td>\n",
              "      <td>20.000000</td>\n",
              "      <td>1300.000000</td>\n",
              "      <td>1.000000</td>\n",
              "      <td>1.000000</td>\n",
              "      <td>1872.000000</td>\n",
              "      <td>1950.000000</td>\n",
              "      <td>0.000000</td>\n",
              "      <td>0.000000</td>\n",
              "      <td>0.000000</td>\n",
              "      <td>...</td>\n",
              "      <td>0.000000</td>\n",
              "      <td>0.000000</td>\n",
              "      <td>0.000000</td>\n",
              "      <td>0.000000</td>\n",
              "      <td>0.000000</td>\n",
              "      <td>0.000000</td>\n",
              "      <td>0.000000</td>\n",
              "      <td>1.000000</td>\n",
              "      <td>2006.000000</td>\n",
              "      <td>34900.000000</td>\n",
              "    </tr>\n",
              "    <tr>\n",
              "      <th>25%</th>\n",
              "      <td>365.750000</td>\n",
              "      <td>20.000000</td>\n",
              "      <td>7553.500000</td>\n",
              "      <td>5.000000</td>\n",
              "      <td>5.000000</td>\n",
              "      <td>1954.000000</td>\n",
              "      <td>1967.000000</td>\n",
              "      <td>0.000000</td>\n",
              "      <td>0.000000</td>\n",
              "      <td>0.000000</td>\n",
              "      <td>...</td>\n",
              "      <td>0.000000</td>\n",
              "      <td>0.000000</td>\n",
              "      <td>0.000000</td>\n",
              "      <td>0.000000</td>\n",
              "      <td>0.000000</td>\n",
              "      <td>0.000000</td>\n",
              "      <td>0.000000</td>\n",
              "      <td>5.000000</td>\n",
              "      <td>2007.000000</td>\n",
              "      <td>129975.000000</td>\n",
              "    </tr>\n",
              "    <tr>\n",
              "      <th>50%</th>\n",
              "      <td>730.500000</td>\n",
              "      <td>50.000000</td>\n",
              "      <td>9478.500000</td>\n",
              "      <td>6.000000</td>\n",
              "      <td>5.000000</td>\n",
              "      <td>1973.000000</td>\n",
              "      <td>1994.000000</td>\n",
              "      <td>0.000000</td>\n",
              "      <td>383.500000</td>\n",
              "      <td>0.000000</td>\n",
              "      <td>...</td>\n",
              "      <td>0.000000</td>\n",
              "      <td>25.000000</td>\n",
              "      <td>0.000000</td>\n",
              "      <td>0.000000</td>\n",
              "      <td>0.000000</td>\n",
              "      <td>0.000000</td>\n",
              "      <td>0.000000</td>\n",
              "      <td>6.000000</td>\n",
              "      <td>2008.000000</td>\n",
              "      <td>163000.000000</td>\n",
              "    </tr>\n",
              "    <tr>\n",
              "      <th>75%</th>\n",
              "      <td>1095.250000</td>\n",
              "      <td>70.000000</td>\n",
              "      <td>11601.500000</td>\n",
              "      <td>7.000000</td>\n",
              "      <td>6.000000</td>\n",
              "      <td>2000.000000</td>\n",
              "      <td>2004.000000</td>\n",
              "      <td>166.000000</td>\n",
              "      <td>712.250000</td>\n",
              "      <td>0.000000</td>\n",
              "      <td>...</td>\n",
              "      <td>168.000000</td>\n",
              "      <td>68.000000</td>\n",
              "      <td>0.000000</td>\n",
              "      <td>0.000000</td>\n",
              "      <td>0.000000</td>\n",
              "      <td>0.000000</td>\n",
              "      <td>0.000000</td>\n",
              "      <td>8.000000</td>\n",
              "      <td>2009.000000</td>\n",
              "      <td>214000.000000</td>\n",
              "    </tr>\n",
              "    <tr>\n",
              "      <th>max</th>\n",
              "      <td>1460.000000</td>\n",
              "      <td>190.000000</td>\n",
              "      <td>215245.000000</td>\n",
              "      <td>10.000000</td>\n",
              "      <td>9.000000</td>\n",
              "      <td>2010.000000</td>\n",
              "      <td>2010.000000</td>\n",
              "      <td>1600.000000</td>\n",
              "      <td>5644.000000</td>\n",
              "      <td>1474.000000</td>\n",
              "      <td>...</td>\n",
              "      <td>857.000000</td>\n",
              "      <td>547.000000</td>\n",
              "      <td>552.000000</td>\n",
              "      <td>508.000000</td>\n",
              "      <td>480.000000</td>\n",
              "      <td>738.000000</td>\n",
              "      <td>15500.000000</td>\n",
              "      <td>12.000000</td>\n",
              "      <td>2010.000000</td>\n",
              "      <td>755000.000000</td>\n",
              "    </tr>\n",
              "  </tbody>\n",
              "</table>\n",
              "<p>8 rows × 37 columns</p>\n",
              "</div>\n",
              "    <div class=\"colab-df-buttons\">\n",
              "\n",
              "  <div class=\"colab-df-container\">\n",
              "    <button class=\"colab-df-convert\" onclick=\"convertToInteractive('df-c6d9420f-92a5-4298-b596-7f2e36d8030e')\"\n",
              "            title=\"Convert this dataframe to an interactive table.\"\n",
              "            style=\"display:none;\">\n",
              "\n",
              "  <svg xmlns=\"http://www.w3.org/2000/svg\" height=\"24px\" viewBox=\"0 -960 960 960\">\n",
              "    <path d=\"M120-120v-720h720v720H120Zm60-500h600v-160H180v160Zm220 220h160v-160H400v160Zm0 220h160v-160H400v160ZM180-400h160v-160H180v160Zm440 0h160v-160H620v160ZM180-180h160v-160H180v160Zm440 0h160v-160H620v160Z\"/>\n",
              "  </svg>\n",
              "    </button>\n",
              "\n",
              "  <style>\n",
              "    .colab-df-container {\n",
              "      display:flex;\n",
              "      gap: 12px;\n",
              "    }\n",
              "\n",
              "    .colab-df-convert {\n",
              "      background-color: #E8F0FE;\n",
              "      border: none;\n",
              "      border-radius: 50%;\n",
              "      cursor: pointer;\n",
              "      display: none;\n",
              "      fill: #1967D2;\n",
              "      height: 32px;\n",
              "      padding: 0 0 0 0;\n",
              "      width: 32px;\n",
              "    }\n",
              "\n",
              "    .colab-df-convert:hover {\n",
              "      background-color: #E2EBFA;\n",
              "      box-shadow: 0px 1px 2px rgba(60, 64, 67, 0.3), 0px 1px 3px 1px rgba(60, 64, 67, 0.15);\n",
              "      fill: #174EA6;\n",
              "    }\n",
              "\n",
              "    .colab-df-buttons div {\n",
              "      margin-bottom: 4px;\n",
              "    }\n",
              "\n",
              "    [theme=dark] .colab-df-convert {\n",
              "      background-color: #3B4455;\n",
              "      fill: #D2E3FC;\n",
              "    }\n",
              "\n",
              "    [theme=dark] .colab-df-convert:hover {\n",
              "      background-color: #434B5C;\n",
              "      box-shadow: 0px 1px 3px 1px rgba(0, 0, 0, 0.15);\n",
              "      filter: drop-shadow(0px 1px 2px rgba(0, 0, 0, 0.3));\n",
              "      fill: #FFFFFF;\n",
              "    }\n",
              "  </style>\n",
              "\n",
              "    <script>\n",
              "      const buttonEl =\n",
              "        document.querySelector('#df-c6d9420f-92a5-4298-b596-7f2e36d8030e button.colab-df-convert');\n",
              "      buttonEl.style.display =\n",
              "        google.colab.kernel.accessAllowed ? 'block' : 'none';\n",
              "\n",
              "      async function convertToInteractive(key) {\n",
              "        const element = document.querySelector('#df-c6d9420f-92a5-4298-b596-7f2e36d8030e');\n",
              "        const dataTable =\n",
              "          await google.colab.kernel.invokeFunction('convertToInteractive',\n",
              "                                                    [key], {});\n",
              "        if (!dataTable) return;\n",
              "\n",
              "        const docLinkHtml = 'Like what you see? Visit the ' +\n",
              "          '<a target=\"_blank\" href=https://colab.research.google.com/notebooks/data_table.ipynb>data table notebook</a>'\n",
              "          + ' to learn more about interactive tables.';\n",
              "        element.innerHTML = '';\n",
              "        dataTable['output_type'] = 'display_data';\n",
              "        await google.colab.output.renderOutput(dataTable, element);\n",
              "        const docLink = document.createElement('div');\n",
              "        docLink.innerHTML = docLinkHtml;\n",
              "        element.appendChild(docLink);\n",
              "      }\n",
              "    </script>\n",
              "  </div>\n",
              "\n",
              "\n",
              "<div id=\"df-40ef68d6-eec8-456e-9dc2-e7b7858c010e\">\n",
              "  <button class=\"colab-df-quickchart\" onclick=\"quickchart('df-40ef68d6-eec8-456e-9dc2-e7b7858c010e')\"\n",
              "            title=\"Suggest charts\"\n",
              "            style=\"display:none;\">\n",
              "\n",
              "<svg xmlns=\"http://www.w3.org/2000/svg\" height=\"24px\"viewBox=\"0 0 24 24\"\n",
              "     width=\"24px\">\n",
              "    <g>\n",
              "        <path d=\"M19 3H5c-1.1 0-2 .9-2 2v14c0 1.1.9 2 2 2h14c1.1 0 2-.9 2-2V5c0-1.1-.9-2-2-2zM9 17H7v-7h2v7zm4 0h-2V7h2v10zm4 0h-2v-4h2v4z\"/>\n",
              "    </g>\n",
              "</svg>\n",
              "  </button>\n",
              "\n",
              "<style>\n",
              "  .colab-df-quickchart {\n",
              "      --bg-color: #E8F0FE;\n",
              "      --fill-color: #1967D2;\n",
              "      --hover-bg-color: #E2EBFA;\n",
              "      --hover-fill-color: #174EA6;\n",
              "      --disabled-fill-color: #AAA;\n",
              "      --disabled-bg-color: #DDD;\n",
              "  }\n",
              "\n",
              "  [theme=dark] .colab-df-quickchart {\n",
              "      --bg-color: #3B4455;\n",
              "      --fill-color: #D2E3FC;\n",
              "      --hover-bg-color: #434B5C;\n",
              "      --hover-fill-color: #FFFFFF;\n",
              "      --disabled-bg-color: #3B4455;\n",
              "      --disabled-fill-color: #666;\n",
              "  }\n",
              "\n",
              "  .colab-df-quickchart {\n",
              "    background-color: var(--bg-color);\n",
              "    border: none;\n",
              "    border-radius: 50%;\n",
              "    cursor: pointer;\n",
              "    display: none;\n",
              "    fill: var(--fill-color);\n",
              "    height: 32px;\n",
              "    padding: 0;\n",
              "    width: 32px;\n",
              "  }\n",
              "\n",
              "  .colab-df-quickchart:hover {\n",
              "    background-color: var(--hover-bg-color);\n",
              "    box-shadow: 0 1px 2px rgba(60, 64, 67, 0.3), 0 1px 3px 1px rgba(60, 64, 67, 0.15);\n",
              "    fill: var(--button-hover-fill-color);\n",
              "  }\n",
              "\n",
              "  .colab-df-quickchart-complete:disabled,\n",
              "  .colab-df-quickchart-complete:disabled:hover {\n",
              "    background-color: var(--disabled-bg-color);\n",
              "    fill: var(--disabled-fill-color);\n",
              "    box-shadow: none;\n",
              "  }\n",
              "\n",
              "  .colab-df-spinner {\n",
              "    border: 2px solid var(--fill-color);\n",
              "    border-color: transparent;\n",
              "    border-bottom-color: var(--fill-color);\n",
              "    animation:\n",
              "      spin 1s steps(1) infinite;\n",
              "  }\n",
              "\n",
              "  @keyframes spin {\n",
              "    0% {\n",
              "      border-color: transparent;\n",
              "      border-bottom-color: var(--fill-color);\n",
              "      border-left-color: var(--fill-color);\n",
              "    }\n",
              "    20% {\n",
              "      border-color: transparent;\n",
              "      border-left-color: var(--fill-color);\n",
              "      border-top-color: var(--fill-color);\n",
              "    }\n",
              "    30% {\n",
              "      border-color: transparent;\n",
              "      border-left-color: var(--fill-color);\n",
              "      border-top-color: var(--fill-color);\n",
              "      border-right-color: var(--fill-color);\n",
              "    }\n",
              "    40% {\n",
              "      border-color: transparent;\n",
              "      border-right-color: var(--fill-color);\n",
              "      border-top-color: var(--fill-color);\n",
              "    }\n",
              "    60% {\n",
              "      border-color: transparent;\n",
              "      border-right-color: var(--fill-color);\n",
              "    }\n",
              "    80% {\n",
              "      border-color: transparent;\n",
              "      border-right-color: var(--fill-color);\n",
              "      border-bottom-color: var(--fill-color);\n",
              "    }\n",
              "    90% {\n",
              "      border-color: transparent;\n",
              "      border-bottom-color: var(--fill-color);\n",
              "    }\n",
              "  }\n",
              "</style>\n",
              "\n",
              "  <script>\n",
              "    async function quickchart(key) {\n",
              "      const quickchartButtonEl =\n",
              "        document.querySelector('#' + key + ' button');\n",
              "      quickchartButtonEl.disabled = true;  // To prevent multiple clicks.\n",
              "      quickchartButtonEl.classList.add('colab-df-spinner');\n",
              "      try {\n",
              "        const charts = await google.colab.kernel.invokeFunction(\n",
              "            'suggestCharts', [key], {});\n",
              "      } catch (error) {\n",
              "        console.error('Error during call to suggestCharts:', error);\n",
              "      }\n",
              "      quickchartButtonEl.classList.remove('colab-df-spinner');\n",
              "      quickchartButtonEl.classList.add('colab-df-quickchart-complete');\n",
              "    }\n",
              "    (() => {\n",
              "      let quickchartButtonEl =\n",
              "        document.querySelector('#df-40ef68d6-eec8-456e-9dc2-e7b7858c010e button');\n",
              "      quickchartButtonEl.style.display =\n",
              "        google.colab.kernel.accessAllowed ? 'block' : 'none';\n",
              "    })();\n",
              "  </script>\n",
              "</div>\n",
              "\n",
              "    </div>\n",
              "  </div>\n"
            ],
            "application/vnd.google.colaboratory.intrinsic+json": {
              "type": "dataframe"
            }
          },
          "metadata": {},
          "execution_count": 54
        }
      ]
    },
    {
      "cell_type": "markdown",
      "source": [
        "Conociendo el df más detalladamente."
      ],
      "metadata": {
        "id": "AFjpTHm0BG2A"
      }
    },
    {
      "cell_type": "code",
      "source": [
        "df_house_limpia.info()"
      ],
      "metadata": {
        "colab": {
          "base_uri": "https://localhost:8080/"
        },
        "id": "TyX-BgV06HRd",
        "outputId": "7e4f8eaf-8619-4717-ae45-de77677cc18e"
      },
      "execution_count": 55,
      "outputs": [
        {
          "output_type": "stream",
          "name": "stdout",
          "text": [
            "<class 'pandas.core.frame.DataFrame'>\n",
            "RangeIndex: 1460 entries, 0 to 1459\n",
            "Data columns (total 75 columns):\n",
            " #   Column         Non-Null Count  Dtype  \n",
            "---  ------         --------------  -----  \n",
            " 0   Id             1460 non-null   int64  \n",
            " 1   MSSubClass     1460 non-null   int64  \n",
            " 2   MSZoning       1460 non-null   object \n",
            " 3   LotArea        1460 non-null   int64  \n",
            " 4   Street         1460 non-null   object \n",
            " 5   LotShape       1460 non-null   object \n",
            " 6   LandContour    1460 non-null   object \n",
            " 7   Utilities      1460 non-null   object \n",
            " 8   LotConfig      1460 non-null   object \n",
            " 9   LandSlope      1460 non-null   object \n",
            " 10  Neighborhood   1460 non-null   object \n",
            " 11  Condition1     1460 non-null   object \n",
            " 12  Condition2     1460 non-null   object \n",
            " 13  BldgType       1460 non-null   object \n",
            " 14  HouseStyle     1460 non-null   object \n",
            " 15  OverallQual    1460 non-null   int64  \n",
            " 16  OverallCond    1460 non-null   int64  \n",
            " 17  YearBuilt      1460 non-null   int64  \n",
            " 18  YearRemodAdd   1460 non-null   int64  \n",
            " 19  RoofStyle      1460 non-null   object \n",
            " 20  RoofMatl       1460 non-null   object \n",
            " 21  Exterior1st    1460 non-null   object \n",
            " 22  Exterior2nd    1460 non-null   object \n",
            " 23  MasVnrType     1452 non-null   object \n",
            " 24  MasVnrArea     1452 non-null   float64\n",
            " 25  ExterQual      1460 non-null   object \n",
            " 26  ExterCond      1460 non-null   object \n",
            " 27  Foundation     1460 non-null   object \n",
            " 28  BsmtQual       1423 non-null   object \n",
            " 29  BsmtCond       1423 non-null   object \n",
            " 30  BsmtExposure   1422 non-null   object \n",
            " 31  BsmtFinType1   1423 non-null   object \n",
            " 32  BsmtFinSF1     1460 non-null   int64  \n",
            " 33  BsmtFinType2   1422 non-null   object \n",
            " 34  BsmtFinSF2     1460 non-null   int64  \n",
            " 35  BsmtUnfSF      1460 non-null   int64  \n",
            " 36  TotalBsmtSF    1460 non-null   int64  \n",
            " 37  Heating        1460 non-null   object \n",
            " 38  HeatingQC      1460 non-null   object \n",
            " 39  CentralAir     1460 non-null   object \n",
            " 40  Electrical     1459 non-null   object \n",
            " 41  1stFlrSF       1460 non-null   int64  \n",
            " 42  2ndFlrSF       1460 non-null   int64  \n",
            " 43  LowQualFinSF   1460 non-null   int64  \n",
            " 44  GrLivArea      1460 non-null   int64  \n",
            " 45  BsmtFullBath   1460 non-null   int64  \n",
            " 46  BsmtHalfBath   1460 non-null   int64  \n",
            " 47  FullBath       1460 non-null   int64  \n",
            " 48  HalfBath       1460 non-null   int64  \n",
            " 49  BedroomAbvGr   1460 non-null   int64  \n",
            " 50  KitchenAbvGr   1460 non-null   int64  \n",
            " 51  KitchenQual    1460 non-null   object \n",
            " 52  TotRmsAbvGrd   1460 non-null   int64  \n",
            " 53  Functional     1460 non-null   object \n",
            " 54  Fireplaces     1460 non-null   int64  \n",
            " 55  GarageType     1379 non-null   object \n",
            " 56  GarageYrBlt    1379 non-null   float64\n",
            " 57  GarageFinish   1379 non-null   object \n",
            " 58  GarageCars     1460 non-null   int64  \n",
            " 59  GarageArea     1460 non-null   int64  \n",
            " 60  GarageQual     1379 non-null   object \n",
            " 61  GarageCond     1379 non-null   object \n",
            " 62  PavedDrive     1460 non-null   object \n",
            " 63  WoodDeckSF     1460 non-null   int64  \n",
            " 64  OpenPorchSF    1460 non-null   int64  \n",
            " 65  EnclosedPorch  1460 non-null   int64  \n",
            " 66  3SsnPorch      1460 non-null   int64  \n",
            " 67  ScreenPorch    1460 non-null   int64  \n",
            " 68  PoolArea       1460 non-null   int64  \n",
            " 69  MiscVal        1460 non-null   int64  \n",
            " 70  MoSold         1460 non-null   int64  \n",
            " 71  YrSold         1460 non-null   int64  \n",
            " 72  SaleType       1460 non-null   object \n",
            " 73  SaleCondition  1460 non-null   object \n",
            " 74  SalePrice      1460 non-null   int64  \n",
            "dtypes: float64(2), int64(35), object(38)\n",
            "memory usage: 855.6+ KB\n"
          ]
        }
      ]
    },
    {
      "cell_type": "markdown",
      "source": [
        "Luego que conozca las características de la base de trabajo, usted ha sido\n",
        "contratado para realizar una recomendación de oferta para el adulto joven\n",
        "recién egresado de la universidad que está en búsqueda de casa, para esto\n",
        "debe formar parte de su análisis lo siguiente:"
      ],
      "metadata": {
        "id": "s_RwcKfkBQ3J"
      }
    },
    {
      "cell_type": "markdown",
      "source": [
        "Variables que distribuyen normal (en caso contrario, sugiere otra)"
      ],
      "metadata": {
        "id": "h7Ae-3V1BVnx"
      }
    },
    {
      "cell_type": "code",
      "source": [
        "# Lo primero para es graficar los datos mediante un histograma para identificar que variables pueden sugerir\n",
        "# una distribución normal.\n",
        "\n",
        "# Supongamos que df_house_limpia es tu DataFrame y contiene las columnas para los histogramas\n",
        "fig, axes = plt.subplots(figsize=(12, 12))\n",
        "df_house_limpia.hist(ax=axes)\n",
        "\n",
        "# Ajusta la disposición manualmente\n",
        "plt.subplots_adjust(hspace=0.8, wspace=0.8)  # Ajusta el espacio horizontal y vertical entre los subgráficos\n",
        "\n",
        "# Muestra la figura\n",
        "plt.show()\n",
        "\n",
        "# Python muestra un mensaje de advertencia que dice que los subgráficos se superponen ligeramente debido a la configuración actual,\n",
        "# pero como los gráficos se muestran correctamente y no hay ningún problema aparente, se continua sin problemas."
      ],
      "metadata": {
        "colab": {
          "base_uri": "https://localhost:8080/",
          "height": 1000
        },
        "id": "gefMiB9C6t2r",
        "outputId": "86f635a5-083e-422f-b1b4-51ba3d60124b"
      },
      "execution_count": 56,
      "outputs": [
        {
          "output_type": "stream",
          "name": "stderr",
          "text": [
            "<ipython-input-56-2e03cb0c1dc7>:6: UserWarning: To output multiple subplots, the figure containing the passed axes is being cleared.\n",
            "  df_house_limpia.hist(ax=axes)\n"
          ]
        },
        {
          "output_type": "display_data",
          "data": {
            "text/plain": [
              "<Figure size 1200x1200 with 42 Axes>"
            ],
            "image/png": "[encoded data removed]"
          },
          "metadata": {}
        }
      ]
    },
    {
      "cell_type": "markdown",
      "source": [
        "Según los histogramas podemos ver que algunas variables parecen seguir una distribución normal estas son:\n",
        "\n",
        "\n",
        "\n",
        "*   MoSold\n",
        "*   TotRmsAbvGrd\n",
        "*   GarageArea\n",
        "*   OverallQual\n",
        "*   GrLivArea\n",
        "*   2ndFlrSF\n",
        "*   1stFlrSF\n",
        "*   SalePrice\n",
        "\n",
        "Por esta razón, vamos a realizar un remuestreo eligiendo la variable:\n",
        "\n",
        "*  'MoSold' que representa el mes en que se vendió una casa.\n",
        "\n",
        "Con la finalidad de identificar si sigue una distribución normal, pero de una forma técnica."
      ],
      "metadata": {
        "id": "RBEDNICv8E0l"
      }
    },
    {
      "cell_type": "code",
      "source": [
        "# Remuestreo para calcular si la variable MoSold presenta una distribución normal.\n",
        "\n",
        "MoSold = df_house_limpia['MoSold']\n",
        "MoSold.hist(figsize=(12, 12))\n",
        "plt.show()"
      ],
      "metadata": {
        "colab": {
          "base_uri": "https://localhost:8080/",
          "height": 984
        },
        "id": "EMycudoM9Y3-",
        "outputId": "96a083c1-275c-4d47-e0ee-342aa8416eda"
      },
      "execution_count": 57,
      "outputs": [
        {
          "output_type": "display_data",
          "data": {
            "text/plain": [
              "<Figure size 1200x1200 with 1 Axes>"
            ],
            "image/png": "[encoded data removed]"
          },
          "metadata": {}
        }
      ]
    },
    {
      "cell_type": "code",
      "source": [
        "# Resumen estadístico de la variable MoSold.\n",
        "MoSold.describe()"
      ],
      "metadata": {
        "colab": {
          "base_uri": "https://localhost:8080/"
        },
        "id": "rcn5SDBnPQVK",
        "outputId": "e6f5e562-cb4e-4464-8fc3-699ab055e2f3"
      },
      "execution_count": 58,
      "outputs": [
        {
          "output_type": "execute_result",
          "data": {
            "text/plain": [
              "count    1460.000000\n",
              "mean        6.321918\n",
              "std         2.703626\n",
              "min         1.000000\n",
              "25%         5.000000\n",
              "50%         6.000000\n",
              "75%         8.000000\n",
              "max        12.000000\n",
              "Name: MoSold, dtype: float64"
            ]
          },
          "metadata": {},
          "execution_count": 58
        }
      ]
    },
    {
      "cell_type": "markdown",
      "source": [
        "El histrograma parece mostrar una distribución normal dado que tiene una forma de campana, una media localizada en el centro de la curva con valor 6.32 y los costados simetrica a la media, pero aún no podemos dar por hecho que sea de este modo, por ello necesitamos realizar este procedimiento de una forma más técnica."
      ],
      "metadata": {
        "id": "zm6eKhZjN36s"
      }
    },
    {
      "cell_type": "code",
      "source": [
        "# Vamos a importar librerías que nos permitiran definir si esta variable sigue una distribución normal o no.\n",
        "\n",
        "from scipy import stats\n",
        "import statsmodels.api as sm"
      ],
      "metadata": {
        "id": "tiv_XufNOmvN"
      },
      "execution_count": 59,
      "outputs": []
    },
    {
      "cell_type": "markdown",
      "source": [
        "Para saber con exactitud si esta variable sigue una distribución normal es necesario evaluar bajo la regla empírica, la cual nos dice que:\n",
        "\n",
        "\n",
        "\n",
        "*   Aproximadamente el 68% de los datos se encuentran dentro de una desviación estándar de la media.\n",
        "*   Aproximadamente el 95% de los datos se encuentran dentro de dos desviaciones estándar de la media.\n",
        "*   Aproximadamente el 99.7% de los datos se encuentran dentro de tres desviaciones estándar de la media."
      ],
      "metadata": {
        "id": "xsidBxtGP6VD"
      }
    },
    {
      "cell_type": "code",
      "source": [
        "# Ahora vamos realizar los calculos necesarios para verificar la regla empírica.\n",
        "\n",
        "# Necesitamos la Media y la Desviación Estándar.\n",
        "\n",
        "# Calculo Media.\n",
        "media_MoSold = MoSold.mean()\n",
        "print(f'Media: {media_MoSold}')\n",
        "\n",
        "# Calculo Desviación Estándar.\n",
        "std_MoSold = MoSold.std()\n",
        "print(f'Desviación estándar: {std_MoSold}')"
      ],
      "metadata": {
        "colab": {
          "base_uri": "https://localhost:8080/"
        },
        "id": "u4RcSLm6O9OO",
        "outputId": "bc8bd4ce-cc63-47eb-db8a-4a0768792654"
      },
      "execution_count": 60,
      "outputs": [
        {
          "output_type": "stream",
          "name": "stdout",
          "text": [
            "Media: 6.321917808219178\n",
            "Desviación estándar: 2.7036262083595126\n"
          ]
        }
      ]
    },
    {
      "cell_type": "markdown",
      "source": [
        "Ahora para comprobar la regla empírica necesitamos calcular los intervalos de desviación estándar:\n",
        "\n",
        "68% de los valores:\n",
        "\n",
        "Media + 1 x desviación estándar:\n",
        "Aproximadamente el 68% de los datos se encuentran dentro de una desviación estándar de la media.\n",
        "\n",
        "95% de los valores:\n",
        "\n",
        "Media + 2 x desviación estándar:\n",
        "Aproximadamente el 95% de los datos se encuentran dentro de dos desviaciones estándar de la media.\n",
        "\n",
        "99.7% de los valores:\n",
        "\n",
        "Media + 3 x desviación estándar:\n",
        "Aproximadamente el 99.7% de los datos se encuentran dentro de tres desviaciones estándar de la media."
      ],
      "metadata": {
        "id": "gS9tsp5gR0Ik"
      }
    },
    {
      "cell_type": "code",
      "source": [
        "# Sabiendo que la media es el punto medio de un rango de datos, podemos entender que\n",
        "# existen datos sobre y por debajo de la media por ello vamos a calcular los limites\n",
        "# superior +1 e inferiores -1 luego aplicaremos la fórmula anteriormente vista y\n",
        "# verificaremos si sigue la regla empírica o no.\n",
        "\n",
        "limite_superior = media_MoSold + 1 * std_MoSold\n",
        "limite_inferior = media_MoSold - 1 * std_MoSold\n",
        "\n",
        "((MoSold >= limite_inferior) & (MoSold <= limite_superior)).mean()*100\n"
      ],
      "metadata": {
        "colab": {
          "base_uri": "https://localhost:8080/"
        },
        "id": "CRi81yyISQMN",
        "outputId": "8cd943b5-0ba4-4b9e-c0e1-621cd84f55de"
      },
      "execution_count": 61,
      "outputs": [
        {
          "output_type": "execute_result",
          "data": {
            "text/plain": [
              "69.65753424657535"
            ]
          },
          "metadata": {},
          "execution_count": 61
        }
      ]
    },
    {
      "cell_type": "markdown",
      "source": [
        "Podemos comprobar que el 69.65% de los valores caen dentro de una desviación estándar."
      ],
      "metadata": {
        "id": "HfBk3p7aEFjL"
      }
    },
    {
      "cell_type": "code",
      "source": [
        "# Mismo procedimiento pero para 2 desviaciones estándar.\n",
        "\n",
        "limite_superior = media_MoSold + 2 * std_MoSold\n",
        "limite_inferior = media_MoSold - 2 * std_MoSold\n",
        "\n",
        "((MoSold >= limite_inferior) & (MoSold <= limite_superior)).mean()*100\n"
      ],
      "metadata": {
        "colab": {
          "base_uri": "https://localhost:8080/"
        },
        "id": "kglFBoFHU2y1",
        "outputId": "0a1eda51-35aa-476f-a91c-264218d1b3d7"
      },
      "execution_count": 62,
      "outputs": [
        {
          "output_type": "execute_result",
          "data": {
            "text/plain": [
              "95.95890410958904"
            ]
          },
          "metadata": {},
          "execution_count": 62
        }
      ]
    },
    {
      "cell_type": "markdown",
      "source": [
        "Podemos comprobar que el 95.96% de los valores caen dentro de una desviación estándar."
      ],
      "metadata": {
        "id": "AxOFvDp-dPsd"
      }
    },
    {
      "cell_type": "code",
      "source": [
        "# Mismo procedimiento pero para 3 desviaciones estándar.\n",
        "\n",
        "limite_superior = media_MoSold + 3 * std_MoSold\n",
        "limite_inferior = media_MoSold - 3 * std_MoSold\n",
        "\n",
        "((MoSold >= limite_inferior) & (MoSold <= limite_superior)).mean()*100\n"
      ],
      "metadata": {
        "colab": {
          "base_uri": "https://localhost:8080/"
        },
        "id": "c73fSAwSU3QP",
        "outputId": "8b4913e6-83b0-4473-a5ac-2003c6a9023d"
      },
      "execution_count": 63,
      "outputs": [
        {
          "output_type": "execute_result",
          "data": {
            "text/plain": [
              "100.0"
            ]
          },
          "metadata": {},
          "execution_count": 63
        }
      ]
    },
    {
      "cell_type": "markdown",
      "source": [
        "Podemos comprobar que el 100% de los valores caen dentro de una desviación estándar."
      ],
      "metadata": {
        "id": "iGe-6CsGdTI-"
      }
    },
    {
      "cell_type": "markdown",
      "source": [
        "Ahora siguiendo la regla empírica tenemos que:\n",
        "\n",
        "Media + 1 x desviación estándar:\n",
        "\n",
        "1.   Regla empírica: 68%\n",
        "2.   Variable MoSold: 69.66%\n",
        "\n",
        "Media + 2 x desviación estándar:\n",
        "\n",
        "*   Regla empírica: 95%\n",
        "*   Variable MoSold: 95.96%\n",
        "\n",
        "\n",
        "\n",
        "\n",
        "Media + 3 x desviación estándar:\n",
        "\n",
        "*   Regla empírica: 99.7%\n",
        "*   Variable MoSold: 100.00%\n",
        "\n",
        "En este punto es seguro decir que esta variable sigue una distribución normal, dado que hemos obtenido valores que siguen la regla empírica, obviamente no se espera que sean los mismos porcentajes, pero es claro que es acorde a este método."
      ],
      "metadata": {
        "id": "7ErLDxbLVYiw"
      }
    },
    {
      "cell_type": "code",
      "source": [
        "# Ahora vamos a calcular si existen outliers, para ello usaremos z-score,\n",
        "# para ver a cuantas desviaciones estándar un dato se encuentra sobre o debajo de la media.\n",
        "\n",
        "df_house_limpia['Z_SCORE'] = stats.zscore(df_house_limpia['MoSold'])\n",
        "\n",
        "print(df_house_limpia)"
      ],
      "metadata": {
        "colab": {
          "base_uri": "https://localhost:8080/"
        },
        "id": "fk0CHESZWb6t",
        "outputId": "6b43c0c0-6d9a-4674-fce9-7f8ff22ce20d"
      },
      "execution_count": 64,
      "outputs": [
        {
          "output_type": "stream",
          "name": "stdout",
          "text": [
            "        Id  MSSubClass MSZoning  LotArea Street LotShape LandContour  \\\n",
            "0        1          60       RL     8450   Pave      Reg         Lvl   \n",
            "1        2          20       RL     9600   Pave      Reg         Lvl   \n",
            "2        3          60       RL    11250   Pave      IR1         Lvl   \n",
            "3        4          70       RL     9550   Pave      IR1         Lvl   \n",
            "4        5          60       RL    14260   Pave      IR1         Lvl   \n",
            "...    ...         ...      ...      ...    ...      ...         ...   \n",
            "1455  1456          60       RL     7917   Pave      Reg         Lvl   \n",
            "1456  1457          20       RL    13175   Pave      Reg         Lvl   \n",
            "1457  1458          70       RL     9042   Pave      Reg         Lvl   \n",
            "1458  1459          20       RL     9717   Pave      Reg         Lvl   \n",
            "1459  1460          20       RL     9937   Pave      Reg         Lvl   \n",
            "\n",
            "     Utilities LotConfig LandSlope  ... 3SsnPorch ScreenPorch PoolArea  \\\n",
            "0       AllPub    Inside       Gtl  ...         0           0        0   \n",
            "1       AllPub       FR2       Gtl  ...         0           0        0   \n",
            "2       AllPub    Inside       Gtl  ...         0           0        0   \n",
            "3       AllPub    Corner       Gtl  ...         0           0        0   \n",
            "4       AllPub       FR2       Gtl  ...         0           0        0   \n",
            "...        ...       ...       ...  ...       ...         ...      ...   \n",
            "1455    AllPub    Inside       Gtl  ...         0           0        0   \n",
            "1456    AllPub    Inside       Gtl  ...         0           0        0   \n",
            "1457    AllPub    Inside       Gtl  ...         0           0        0   \n",
            "1458    AllPub    Inside       Gtl  ...         0           0        0   \n",
            "1459    AllPub    Inside       Gtl  ...         0           0        0   \n",
            "\n",
            "     MiscVal MoSold  YrSold  SaleType  SaleCondition  SalePrice   Z_SCORE  \n",
            "0          0      2    2008        WD         Normal     208500 -1.599111  \n",
            "1          0      5    2007        WD         Normal     181500 -0.489110  \n",
            "2          0      9    2008        WD         Normal     223500  0.990891  \n",
            "3          0      2    2006        WD        Abnorml     140000 -1.599111  \n",
            "4          0     12    2008        WD         Normal     250000  2.100892  \n",
            "...      ...    ...     ...       ...            ...        ...       ...  \n",
            "1455       0      8    2007        WD         Normal     175000  0.620891  \n",
            "1456       0      2    2010        WD         Normal     210000 -1.599111  \n",
            "1457    2500      5    2010        WD         Normal     266500 -0.489110  \n",
            "1458       0      4    2010        WD         Normal     142125 -0.859110  \n",
            "1459       0      6    2008        WD         Normal     147500 -0.119110  \n",
            "\n",
            "[1460 rows x 76 columns]\n"
          ]
        }
      ]
    },
    {
      "cell_type": "code",
      "source": [
        "df_house_limpia[(df_house_limpia['Z_SCORE'] > 3) | (df_house_limpia['Z_SCORE'] < -3)]"
      ],
      "metadata": {
        "colab": {
          "base_uri": "https://localhost:8080/",
          "height": 79
        },
        "id": "VqtQGVOAYP48",
        "outputId": "1e6705b7-cd04-4efc-eabb-42a67496bc8e"
      },
      "execution_count": 65,
      "outputs": [
        {
          "output_type": "execute_result",
          "data": {
            "text/plain": [
              "Empty DataFrame\n",
              "Columns: [Id, MSSubClass, MSZoning, LotArea, Street, LotShape, LandContour, Utilities, LotConfig, LandSlope, Neighborhood, Condition1, Condition2, BldgType, HouseStyle, OverallQual, OverallCond, YearBuilt, YearRemodAdd, RoofStyle, RoofMatl, Exterior1st, Exterior2nd, MasVnrType, MasVnrArea, ExterQual, ExterCond, Foundation, BsmtQual, BsmtCond, BsmtExposure, BsmtFinType1, BsmtFinSF1, BsmtFinType2, BsmtFinSF2, BsmtUnfSF, TotalBsmtSF, Heating, HeatingQC, CentralAir, Electrical, 1stFlrSF, 2ndFlrSF, LowQualFinSF, GrLivArea, BsmtFullBath, BsmtHalfBath, FullBath, HalfBath, BedroomAbvGr, KitchenAbvGr, KitchenQual, TotRmsAbvGrd, Functional, Fireplaces, GarageType, GarageYrBlt, GarageFinish, GarageCars, GarageArea, GarageQual, GarageCond, PavedDrive, WoodDeckSF, OpenPorchSF, EnclosedPorch, 3SsnPorch, ScreenPorch, PoolArea, MiscVal, MoSold, YrSold, SaleType, SaleCondition, SalePrice, Z_SCORE]\n",
              "Index: []\n",
              "\n",
              "[0 rows x 76 columns]"
            ],
            "text/html": [
              "\n",
              "  <div id=\"df-aa7bd5ad-b837-4739-97a0-b0187f5e84d6\" class=\"colab-df-container\">\n",
              "    <div>\n",
              "<style scoped>\n",
              "    .dataframe tbody tr th:only-of-type {\n",
              "        vertical-align: middle;\n",
              "    }\n",
              "\n",
              "    .dataframe tbody tr th {\n",
              "        vertical-align: top;\n",
              "    }\n",
              "\n",
              "    .dataframe thead th {\n",
              "        text-align: right;\n",
              "    }\n",
              "</style>\n",
              "<table border=\"1\" class=\"dataframe\">\n",
              "  <thead>\n",
              "    <tr style=\"text-align: right;\">\n",
              "      <th></th>\n",
              "      <th>Id</th>\n",
              "      <th>MSSubClass</th>\n",
              "      <th>MSZoning</th>\n",
              "      <th>LotArea</th>\n",
              "      <th>Street</th>\n",
              "      <th>LotShape</th>\n",
              "      <th>LandContour</th>\n",
              "      <th>Utilities</th>\n",
              "      <th>LotConfig</th>\n",
              "      <th>LandSlope</th>\n",
              "      <th>...</th>\n",
              "      <th>3SsnPorch</th>\n",
              "      <th>ScreenPorch</th>\n",
              "      <th>PoolArea</th>\n",
              "      <th>MiscVal</th>\n",
              "      <th>MoSold</th>\n",
              "      <th>YrSold</th>\n",
              "      <th>SaleType</th>\n",
              "      <th>SaleCondition</th>\n",
              "      <th>SalePrice</th>\n",
              "      <th>Z_SCORE</th>\n",
              "    </tr>\n",
              "  </thead>\n",
              "  <tbody>\n",
              "  </tbody>\n",
              "</table>\n",
              "<p>0 rows × 76 columns</p>\n",
              "</div>\n",
              "    <div class=\"colab-df-buttons\">\n",
              "\n",
              "  <div class=\"colab-df-container\">\n",
              "    <button class=\"colab-df-convert\" onclick=\"convertToInteractive('df-aa7bd5ad-b837-4739-97a0-b0187f5e84d6')\"\n",
              "            title=\"Convert this dataframe to an interactive table.\"\n",
              "            style=\"display:none;\">\n",
              "\n",
              "  <svg xmlns=\"http://www.w3.org/2000/svg\" height=\"24px\" viewBox=\"0 -960 960 960\">\n",
              "    <path d=\"M120-120v-720h720v720H120Zm60-500h600v-160H180v160Zm220 220h160v-160H400v160Zm0 220h160v-160H400v160ZM180-400h160v-160H180v160Zm440 0h160v-160H620v160ZM180-180h160v-160H180v160Zm440 0h160v-160H620v160Z\"/>\n",
              "  </svg>\n",
              "    </button>\n",
              "\n",
              "  <style>\n",
              "    .colab-df-container {\n",
              "      display:flex;\n",
              "      gap: 12px;\n",
              "    }\n",
              "\n",
              "    .colab-df-convert {\n",
              "      background-color: #E8F0FE;\n",
              "      border: none;\n",
              "      border-radius: 50%;\n",
              "      cursor: pointer;\n",
              "      display: none;\n",
              "      fill: #1967D2;\n",
              "      height: 32px;\n",
              "      padding: 0 0 0 0;\n",
              "      width: 32px;\n",
              "    }\n",
              "\n",
              "    .colab-df-convert:hover {\n",
              "      background-color: #E2EBFA;\n",
              "      box-shadow: 0px 1px 2px rgba(60, 64, 67, 0.3), 0px 1px 3px 1px rgba(60, 64, 67, 0.15);\n",
              "      fill: #174EA6;\n",
              "    }\n",
              "\n",
              "    .colab-df-buttons div {\n",
              "      margin-bottom: 4px;\n",
              "    }\n",
              "\n",
              "    [theme=dark] .colab-df-convert {\n",
              "      background-color: #3B4455;\n",
              "      fill: #D2E3FC;\n",
              "    }\n",
              "\n",
              "    [theme=dark] .colab-df-convert:hover {\n",
              "      background-color: #434B5C;\n",
              "      box-shadow: 0px 1px 3px 1px rgba(0, 0, 0, 0.15);\n",
              "      filter: drop-shadow(0px 1px 2px rgba(0, 0, 0, 0.3));\n",
              "      fill: #FFFFFF;\n",
              "    }\n",
              "  </style>\n",
              "\n",
              "    <script>\n",
              "      const buttonEl =\n",
              "        document.querySelector('#df-aa7bd5ad-b837-4739-97a0-b0187f5e84d6 button.colab-df-convert');\n",
              "      buttonEl.style.display =\n",
              "        google.colab.kernel.accessAllowed ? 'block' : 'none';\n",
              "\n",
              "      async function convertToInteractive(key) {\n",
              "        const element = document.querySelector('#df-aa7bd5ad-b837-4739-97a0-b0187f5e84d6');\n",
              "        const dataTable =\n",
              "          await google.colab.kernel.invokeFunction('convertToInteractive',\n",
              "                                                    [key], {});\n",
              "        if (!dataTable) return;\n",
              "\n",
              "        const docLinkHtml = 'Like what you see? Visit the ' +\n",
              "          '<a target=\"_blank\" href=https://colab.research.google.com/notebooks/data_table.ipynb>data table notebook</a>'\n",
              "          + ' to learn more about interactive tables.';\n",
              "        element.innerHTML = '';\n",
              "        dataTable['output_type'] = 'display_data';\n",
              "        await google.colab.output.renderOutput(dataTable, element);\n",
              "        const docLink = document.createElement('div');\n",
              "        docLink.innerHTML = docLinkHtml;\n",
              "        element.appendChild(docLink);\n",
              "      }\n",
              "    </script>\n",
              "  </div>\n",
              "\n",
              "\n",
              "    </div>\n",
              "  </div>\n"
            ],
            "application/vnd.google.colaboratory.intrinsic+json": {
              "type": "dataframe"
            }
          },
          "metadata": {},
          "execution_count": 65
        }
      ]
    },
    {
      "cell_type": "markdown",
      "source": [
        "Según el método z-score no se encontraron valores atípicos para la variable 'MoSold' sobre y debajo de 3 desviaciones estándar de la media. Esto podría sugerir que la distribución de 'MoSold' no tiene valores extremadamente atípicos."
      ],
      "metadata": {
        "id": "gsvYvq1OY79k"
      }
    },
    {
      "cell_type": "markdown",
      "source": [
        "**Cálculo de Intervalos de Confianza**"
      ],
      "metadata": {
        "id": "AL6dE-PBalB1"
      }
    },
    {
      "cell_type": "code",
      "source": [
        "# El objetivo es generar intervalos de confianza al 95% para nuestras estimaciones.\n",
        "# Para lograr esto, primero realizamos un muestreo aleatorio de nuestros datos, lo que nos permite\n",
        "# estimar la variabilidad y la incertidumbre en nuestras medidas.\n",
        "# Comparado con la simple presentación de la media, la utilización de intervalos de confianza\n",
        "# nos ofrece una representación más completa de la distribución de los datos y nos proporciona\n",
        "# una comprensión más robusta de la precisión de nuestras estimaciones, dado que la media es un solo valor\n",
        "# y los intervalos un rango de valores.\n",
        "\n",
        "# Creación de la sample aleatoria.\n",
        "sampled_data = df_house_limpia['MoSold'].sample(n=100, replace=True, random_state=42)\n",
        "\n",
        "# Verificamos que valores unicos tiene MoSold\n",
        "ver_valores_unicos_MoSold = sorted(df_house_limpia['MoSold'].unique())\n",
        "print('Meses del año')\n",
        "print(ver_valores_unicos_MoSold)\n",
        "# Podemos ver que 'MoSold' es una variable que representa el mes en que se vendió una casa, por ello los valores\n",
        "# corresponder a los meses del año.\n",
        "\n",
        "# Calculamos la media de MoSold.\n",
        "sampled_mean = sampled_data.mean()\n",
        "print('Media MoSold')\n",
        "print(sampled_mean)\n",
        "\n",
        "# Calculamos el error estándar de la media.\n",
        "estimated_error = sampled_data.std() / np.sqrt(len(sampled_data))\n",
        "\n",
        "# Construir el intervalo de confianza utilizando la distribución normal.\n",
        "intervalo_confianza = stats.norm.interval(confidence=0.95, loc=sampled_mean, scale=estimated_error)\n",
        "print('El intervalo de confianza al 95% para la variable MoSold es:')\n",
        "print(intervalo_confianza)\n",
        "\n",
        "# Resultado un intervalo de confianza del 95% para la media de la variable 'MoSold' utilizando una muestra de 100 observaciones aleatorias del conjunto de datos.\n",
        "\n",
        "# El intervalo de MoSold de (5.924782980608234, 6.8752170193917665) al 95% significa que, con un nivel de confianza del 95%, podemos afirmar\n",
        "# que el mes promedio en que se vendieron las casas en nuestra muestra está probablemente entre aproximadamente 5.92 y 6.88. Esto indica que\n",
        "# la mayoría de las casas se vendieron aproximadamente entre los meses de junio y julio, también quiere decir que si tomamos muestras aleatorias\n",
        "# para el resto de la data, considerando el resultado del intervalo de 100 muestra aleatorias es (5.924782980608234, 6.8752170193917665) que incluye la media 6.4,\n",
        "# si por ejemplo se hacen 10 muestras más pueden variar los intervalos pero el 95% de estos intervalos tendrian esta media incluida en su rango.\n",
        "\n",
        "# Presentación de resultados.\n",
        "\n",
        "# Basándonos en el análisis de datos, podemos estar bastante seguros de que el mes promedio en que se vendieron las casas en nuestra muestra está probablemente entre\n",
        "# aproximadamente 5.92 y 6.88, con un nivel de confianza del 95%. Esto indica que la mayoría de las casas se vendieron aproximadamente entre los meses de junio y julio.\n",
        "\n",
        "# Por lo tanto, si estás considerando comprar una casa en el futuro cercano, puede ser una buena idea empezar a buscar y prepararte para hacer una oferta durante estos meses.\n",
        "# Sin embargo, recuerda que este intervalo se basa en una muestra de datos y puede haber variaciones en los patrones de venta en diferentes áreas geográficas o en diferentes momentos del año.\n",
        "\n",
        "# Es importante señalar que aunque el intervalo de confianza nos indique que la mayoría de las casas se vendieron en ciertos meses, no podemos concluir que el motivo es que fueran más baratas en esos meses,\n",
        "# sino por una variedad de factores, como la ubicación, el tamaño, las características de la propiedad, las condiciones del mercado y la motivación del vendedor."
      ],
      "metadata": {
        "colab": {
          "base_uri": "https://localhost:8080/"
        },
        "id": "6hlWDertZH9N",
        "outputId": "ad85fb5a-7f89-4427-b60f-a0249e909b1d"
      },
      "execution_count": 66,
      "outputs": [
        {
          "output_type": "stream",
          "name": "stdout",
          "text": [
            "Meses del año\n",
            "[1, 2, 3, 4, 5, 6, 7, 8, 9, 10, 11, 12]\n",
            "Media MoSold\n",
            "6.4\n",
            "El intervalo de confianza al 95% para la variable MoSold es:\n",
            "(5.924782980608234, 6.8752170193917665)\n"
          ]
        }
      ]
    },
    {
      "cell_type": "markdown",
      "source": [
        "Test de hipótesis:\n",
        "\n",
        "El propósito de este estudio es evaluar si hay una disparidad estadísticamente significativa en los precios de venta de las viviendas entre los meses de junio y julio. Esta evaluación se basa en un análisis comparativo de los precios de venta durante estos dos períodos temporales con el fin de determinar si hay evidencia suficiente para rechazar la hipótesis nula de que no existe una diferencia real entre los precios medios de venta en junio y julio.\n",
        "\n",
        "La investigación se apoya en técnicas estadísticas, específicamente el test t de Student para muestras independientes, que permite examinar si las diferencias observadas entre los grupos son estadísticamente significativas o simplemente debido a la variabilidad aleatoria en los datos.\n",
        "\n",
        "Formulación:\n",
        "\n",
        "Hipótesis nula (H0): No hay diferencia significativa en los precios de venta de las casas entre los meses de junio y julio.\n",
        "\n",
        "Hipótesis alternativa (H1): Existe una diferencia significativa en los precios de venta de las casas entre los meses de junio y julio.\n",
        "\n",
        "Variables utilizadas:\n",
        "\n",
        "*   MoSold\n",
        "*   SalePrice\n",
        "\n",
        "\n"
      ],
      "metadata": {
        "id": "62tDaY_6aid5"
      }
    },
    {
      "cell_type": "code",
      "source": [
        "# Seleccionamos las ventas de junio y julio para la variable MoSold.\n",
        "\n",
        "ventas_junio = df_house[df_house['MoSold'] == 6]['SalePrice']\n",
        "ventas_julio = df_house[df_house['MoSold'] == 7]['SalePrice']\n",
        "\n",
        "# Calcular la varianza de cada variable\n",
        "varianza_junio = ventas_junio.var()\n",
        "varianza_julio = ventas_julio.var()\n",
        "\n",
        "# Varianzas de las variables\n",
        "print(\"Varianza de las ventas en junio:\", varianza_junio)\n",
        "print(\"Varianza de las ventas en julio:\", varianza_julio)\n",
        "\n",
        "\n",
        "# Ejecutamos un test t de Student para muestras independientes utilizando las dos muestras de precios de venta de junio y julio.\n",
        "# El parámetro equal_var=False indica que se asume que las varianzas de las dos muestras son diferentes.\n",
        "\n",
        "print() # Esto lo uso para dar un salto de línea.\n",
        "stats.ttest_ind(ventas_junio, ventas_julio, equal_var=False)\n"
      ],
      "metadata": {
        "colab": {
          "base_uri": "https://localhost:8080/"
        },
        "id": "3Rfh3BwzEdKq",
        "outputId": "7176227c-65f2-47b3-830b-4f94db391e54"
      },
      "execution_count": 67,
      "outputs": [
        {
          "output_type": "stream",
          "name": "stdout",
          "text": [
            "Varianza de las ventas en junio: 4823731138.457369\n",
            "Varianza de las ventas en julio: 8422122999.4692955\n",
            "\n"
          ]
        },
        {
          "output_type": "execute_result",
          "data": {
            "text/plain": [
              "TtestResult(statistic=-1.2042208087702528, pvalue=0.2291622209340616, df=432.91532936093387)"
            ]
          },
          "metadata": {},
          "execution_count": 67
        }
      ]
    },
    {
      "cell_type": "markdown",
      "source": [
        "\n",
        "El test de  hipótesis nos muestra que:\n",
        "\n",
        "Hipótesis nula (H0): No existe relación en ventas de casas entre los meses de junio y julio.\n",
        "\n",
        "Hipótesis alternativa (H1): Sí existe relación en ventas de casas entre los meses de junio y julio.\n",
        "\n",
        "El resultado obtenido del valor p fue 0.2291622209340616. Dado que este valor p es mayor que el nivel de significancia comúnmente utilizado del 5% (o 0.05), no hay suficiente evidencia para rechazar la hipótesis nula en favor de la alternativa.\n",
        "\n",
        "Por lo tanto, basado en este resultado, no hay una diferencia estadística significativa entre las ventas de casas entre los meses de junio y julio."
      ],
      "metadata": {
        "id": "iNr25cDYKasF"
      }
    }
  ]
}